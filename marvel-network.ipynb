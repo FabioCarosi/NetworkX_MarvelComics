{
 "cells": [
  {
   "cell_type": "code",
   "execution_count": 1,
   "metadata": {},
   "outputs": [],
   "source": [
    "import numpy as np\n",
    "import networkx as nx\n",
    "import matplotlib.pyplot as plt\n",
    "import matplotlib.colors as mcolors\n",
    "import random\n",
    "import seaborn as sns\n",
    "import pandas as pd"
   ]
  },
  {
   "cell_type": "code",
   "execution_count": 2,
   "metadata": {},
   "outputs": [],
   "source": [
    "hero_df = pd.read_csv('hero-network.csv')\n",
    "edges_df = pd.read_csv('hero-comic.csv')\n",
    "nodes_df = pd.read_csv('nodes.csv')"
   ]
  },
  {
   "cell_type": "code",
   "execution_count": 3,
   "metadata": {},
   "outputs": [],
   "source": [
    "# Deletes the '/' character at the end of the of each name and truncates the words to 20 characters\n",
    "hero_df['hero1'] = hero_df['hero1'].apply(lambda x: x.rstrip('/')[:20])\n",
    "hero_df['hero2'] = hero_df['hero2'].apply(lambda x: x.rstrip('/')[:20])\n",
    "edges_df['hero'] = edges_df['hero'].apply(lambda x: x.rstrip('/')[:20])\n",
    "nodes_df['node'] = nodes_df['node'].apply(lambda x: x.rstrip('/')[:20])\n",
    "\n",
    "#Deletes lines with a hero linked to itselfhero_df.drop(hero_df[hero_df['hero1'] == hero_df['hero2']].index, inplace = True)\n",
    "hero_df.drop(hero_df[hero_df['hero1'] == hero_df['hero2']].index, inplace = True)"
   ]
  },
  {
   "attachments": {},
   "cell_type": "markdown",
   "metadata": {},
   "source": [
    "## Hero-Comic"
   ]
  },
  {
   "attachments": {},
   "cell_type": "markdown",
   "metadata": {},
   "source": [
    "Takes the graph with hero-comic pairs. \n",
    "\n",
    "1. Number of nodes and edges\n",
    "2. Plot the graph with 'fruchterman_reingold_layout'\n",
    "3. Plot the graph with Degree Centrality and Betweenness Centrality\n",
    " "
   ]
  },
  {
   "cell_type": "code",
   "execution_count": 5,
   "metadata": {},
   "outputs": [],
   "source": [
    "graph = nx.Graph()\n",
    "graph.add_edges_from(edges_df[[\"hero\", \"comic\"]].values)"
   ]
  },
  {
   "cell_type": "code",
   "execution_count": null,
   "metadata": {},
   "outputs": [],
   "source": [
    "pos = nx.fruchterman_reingold_layout(graph)"
   ]
  },
  {
   "cell_type": "code",
   "execution_count": null,
   "metadata": {},
   "outputs": [],
   "source": [
    "print(\"NODES: \", len(graph.nodes))\n",
    "print(\"EDGES: \", len(graph.edges))"
   ]
  },
  {
   "cell_type": "code",
   "execution_count": null,
   "metadata": {},
   "outputs": [],
   "source": [
    "plt.figure(figsize=(20,12))\n",
    "nx.draw(graph, pos)\n",
    "plt.show()"
   ]
  },
  {
   "cell_type": "code",
   "execution_count": null,
   "metadata": {},
   "outputs": [],
   "source": [
    "deg_centrality = nx.degree_centrality(graph)\n",
    "\n",
    "cent = np.fromiter(deg_centrality.values(), float)\n",
    "sizes = cent / np.max(cent) * 200\n",
    "normalize = mcolors.Normalize(vmin=cent.min(), vmax=cent.max())\n",
    "colormap = plt.cm.viridis\n",
    "\n",
    "scalarmappaple = plt.cm.ScalarMappable(norm=normalize, cmap=colormap)\n",
    "scalarmappaple.set_array(cent)\n",
    "\n",
    "plt.colorbar(scalarmappaple)\n",
    "nx.draw(graph, pos, node_size=sizes, node_color=sizes, cmap=colormap)\n",
    "plt.show()"
   ]
  },
  {
   "cell_type": "code",
   "execution_count": null,
   "metadata": {},
   "outputs": [],
   "source": [
    "bet = nx.betweenness_centrality(graph)\n",
    "plt.figure(figsize=(15,10))\n",
    "sns.distplot(list(bet.values()), kde=False)"
   ]
  },
  {
   "cell_type": "code",
   "execution_count": null,
   "metadata": {},
   "outputs": [],
   "source": [
    "cent = np.fromiter(bet.values(), float)\n",
    "sizes = cent / np.max(cent) * 200\n",
    "normalize = mcolors.Normalize(vmin=cent.min(), vmax=cent.max())\n",
    "colormap = plt.cm.viridis\n",
    "\n",
    "scalarmappaple = plt.cm.ScalarMappable(norm=normalize, cmap=colormap)\n",
    "scalarmappaple.set_array(cent)\n",
    "\n",
    "plt.colorbar(scalarmappaple)\n",
    "nx.draw(graph, pos, node_size=sizes, node_color=sizes, cmap=colormap)\n",
    "plt.show()"
   ]
  },
  {
   "attachments": {},
   "cell_type": "markdown",
   "metadata": {},
   "source": [
    "### Connected components"
   ]
  },
  {
   "attachments": {},
   "cell_type": "markdown",
   "metadata": {},
   "source": [
    "5. The largest connected component is taken\n",
    "6. Prints the number of nodes and nodes and nodes of the largest connected component"
   ]
  },
  {
   "cell_type": "code",
   "execution_count": null,
   "metadata": {},
   "outputs": [],
   "source": [
    "components = list(nx.connected_components(graph))\n",
    "largest_component = max(components, key=len)\n",
    "H = graph.subgraph(largest_component)"
   ]
  },
  {
   "cell_type": "code",
   "execution_count": null,
   "metadata": {},
   "outputs": [],
   "source": [
    "print(\"NODES: \", len(H.nodes))\n",
    "print(\"EDGES: \", len(H.edges))"
   ]
  },
  {
   "attachments": {},
   "cell_type": "markdown",
   "metadata": {},
   "source": [
    "#### Reducing the number of nodes"
   ]
  },
  {
   "attachments": {},
   "cell_type": "markdown",
   "metadata": {},
   "source": [
    "I reduce the number of nodes as the graph is too large to perform certain analyses, 1000 nodes are taken"
   ]
  },
  {
   "cell_type": "code",
   "execution_count": null,
   "metadata": {},
   "outputs": [],
   "source": [
    "from collections import deque\n",
    "\n",
    "def connectedSubgraph(graph):\n",
    "    # Initialize an empty graph object\n",
    "    subgraph = nx.Graph()\n",
    "    # Add the first node in the input graph to the subgraph\n",
    "    subgraph.add_node(next(iter(graph)))\n",
    "    \n",
    "    # Create a queue and add the first node of the input graph to it\n",
    "    queue = deque([next(iter(graph))])\n",
    "    \n",
    "    # While the queue is not empty and the number of nodes in the subgraph is less than 1000\n",
    "    while queue and subgraph.number_of_nodes() < 1000:\n",
    "        # Remove the first node from the queue\n",
    "        node = queue.popleft()\n",
    "        \n",
    "        # Iterate through the adjacent nodes of the current node\n",
    "        for adjacent in graph[node]:\n",
    "            # If the adjacent node is not in the subgraph\n",
    "            if adjacent not in subgraph:\n",
    "                # Add the adjacent node to the subgraph\n",
    "                subgraph.add_node(adjacent)\n",
    "                # Add an edge between the current node and the adjacent node in the subgraph\n",
    "                subgraph.add_edge(node, adjacent)\n",
    "                # Add the adjacent node to the queue\n",
    "                queue.append(adjacent)\n",
    "  \n",
    "    # return the subgraph\n",
    "    return subgraph\n",
    "\n",
    "subgraph = connectedSubgraph(H)\n"
   ]
  },
  {
   "attachments": {},
   "cell_type": "markdown",
   "metadata": {},
   "source": [
    "The same analyses as above are performed by adding different layouts, calculation of the 10 densest nodes, and calculation of eccentricity, diameter, radius, periphery, and center values. "
   ]
  },
  {
   "cell_type": "code",
   "execution_count": null,
   "metadata": {},
   "outputs": [],
   "source": [
    "print(\"NODES: \", len(subgraph.nodes))\n",
    "print(\"EDGES: \", len(subgraph.edges))"
   ]
  },
  {
   "cell_type": "code",
   "execution_count": null,
   "metadata": {},
   "outputs": [],
   "source": [
    "posSpring = nx.spring_layout(subgraph)\n",
    "plt.figure(figsize=(20,12))\n",
    "nx.draw(subgraph, posSpring)\n",
    "plt.show()"
   ]
  },
  {
   "cell_type": "code",
   "execution_count": null,
   "metadata": {},
   "outputs": [],
   "source": [
    "posPlanar = nx.planar_layout(subgraph)\n",
    "plt.figure(figsize=(20,12))\n",
    "nx.draw(subgraph, posPlanar )\n",
    "plt.show()"
   ]
  },
  {
   "cell_type": "code",
   "execution_count": null,
   "metadata": {},
   "outputs": [],
   "source": [
    "posKamada = nx.kamada_kawai_layout(subgraph)\n",
    "plt.figure(figsize=(20,12))\n",
    "nx.draw(subgraph, posKamada)\n",
    "plt.show()"
   ]
  },
  {
   "cell_type": "code",
   "execution_count": null,
   "metadata": {},
   "outputs": [],
   "source": [
    "posSpiral = nx.spiral_layout(subgraph)\n",
    "plt.figure(figsize=(20,12))\n",
    "nx.draw(subgraph, posSpiral)\n",
    "plt.show()"
   ]
  },
  {
   "cell_type": "code",
   "execution_count": null,
   "metadata": {},
   "outputs": [],
   "source": [
    "deg_centrality = nx.degree_centrality(subgraph)\n",
    "\n",
    "cent = np.fromiter(deg_centrality.values(), float)\n",
    "sizes = cent / np.max(cent) * 200\n",
    "normalize = mcolors.Normalize(vmin=cent.min(), vmax=cent.max())\n",
    "colormap = plt.cm.viridis\n",
    "\n",
    "scalarmappaple = plt.cm.ScalarMappable(norm=normalize, cmap=colormap)\n",
    "scalarmappaple.set_array(cent)\n",
    "\n",
    "plt.colorbar(scalarmappaple)\n",
    "nx.draw(subgraph, posSpring, node_size=sizes, node_color=sizes, cmap=colormap)\n",
    "plt.show()"
   ]
  },
  {
   "cell_type": "code",
   "execution_count": null,
   "metadata": {},
   "outputs": [],
   "source": [
    "deg_centrality = nx.degree_centrality(subgraph)\n",
    "\n",
    "cent = np.fromiter(deg_centrality.values(), float)\n",
    "sizes = cent / np.max(cent) * 200\n",
    "normalize = mcolors.Normalize(vmin=cent.min(), vmax=cent.max())\n",
    "colormap = plt.cm.viridis\n",
    "\n",
    "scalarmappaple = plt.cm.ScalarMappable(norm=normalize, cmap=colormap)\n",
    "scalarmappaple.set_array(cent)\n",
    "\n",
    "plt.colorbar(scalarmappaple)\n",
    "nx.draw(subgraph, posKamada, node_size=sizes, node_color=sizes, cmap=colormap)\n",
    "plt.show()"
   ]
  },
  {
   "cell_type": "code",
   "execution_count": null,
   "metadata": {},
   "outputs": [],
   "source": [
    "bet = nx.betweenness_centrality(graph)\n",
    "plt.figure(figsize=(15,10))\n",
    "sns.distplot(list(bet.values()), kde=False)"
   ]
  },
  {
   "cell_type": "code",
   "execution_count": null,
   "metadata": {},
   "outputs": [],
   "source": [
    "cent = np.fromiter(bet.values(), float)\n",
    "sizes = cent / np.max(cent) * 200\n",
    "normalize = mcolors.Normalize(vmin=cent.min(), vmax=cent.max())\n",
    "colormap = plt.cm.viridis\n",
    "\n",
    "scalarmappaple = plt.cm.ScalarMappable(norm=normalize, cmap=colormap)\n",
    "scalarmappaple.set_array(cent)\n",
    "\n",
    "plt.colorbar(scalarmappaple)\n",
    "nx.draw(graph, pos, node_size=sizes, node_color=sizes, cmap=colormap)\n",
    "plt.show()"
   ]
  },
  {
   "cell_type": "code",
   "execution_count": null,
   "metadata": {},
   "outputs": [],
   "source": [
    "degrees = subgraph.degree()\n",
    "sorted_degrees = sorted(degrees, key=lambda x: x[1], reverse=True)\n",
    "\n",
    "print(\"I 10 nodi più densi sono:\")\n",
    "for node, degree in sorted_degrees[:10]:\n",
    "    print(f\"  {node}: grado {degree}\")"
   ]
  },
  {
   "cell_type": "code",
   "execution_count": null,
   "metadata": {},
   "outputs": [],
   "source": [
    "eccentricity = nx.eccentricity(subgraph)\n",
    "diameter = nx.diameter(subgraph)\n",
    "radius = nx.radius(subgraph)\n",
    "periphery = [node for node, ecc in eccentricity.items() if ecc == diameter]\n",
    "center = [node for node, ecc in eccentricity.items() if ecc == radius]\n",
    "\n",
    "print(\"ECCENTRICITY: \",len(eccentricity))\n",
    "print(\"DIAMETER: \",diameter)\n",
    "print(\"RADIUS: \",radius)\n",
    "print(\"PERIPHERY: \",len(periphery))\n",
    "print(\"CENTER: \",len(center))"
   ]
  },
  {
   "attachments": {},
   "cell_type": "markdown",
   "metadata": {},
   "source": [
    "## Hero-Hero Network"
   ]
  },
  {
   "attachments": {},
   "cell_type": "markdown",
   "metadata": {},
   "source": [
    "Same analysis as above by adding using the graph generated with the connections between heroes."
   ]
  },
  {
   "cell_type": "code",
   "execution_count": 6,
   "metadata": {},
   "outputs": [
    {
     "name": "stdout",
     "output_type": "stream",
     "text": [
      "NODES:  6426\n",
      "EDGES:  167207\n"
     ]
    }
   ],
   "source": [
    "graph = nx.Graph()\n",
    "graph.add_edges_from(hero_df[[\"hero1\", \"hero2\"]].values)\n",
    "\n",
    "\n",
    "print(\"NODES: \", len(graph.nodes)) \n",
    "print(\"EDGES: \", len(graph.edges))"
   ]
  },
  {
   "cell_type": "code",
   "execution_count": null,
   "metadata": {},
   "outputs": [],
   "source": [
    "components = list(nx.connected_components(graph))\n",
    "largest_component = max(components, key=len)\n",
    "H = graph.subgraph(largest_component)"
   ]
  },
  {
   "cell_type": "code",
   "execution_count": null,
   "metadata": {},
   "outputs": [],
   "source": [
    "pos = nx.spring_layout(graph)\n",
    "\n",
    "plt.figure(figsize=(20,12))\n",
    "nx.draw(graph, pos)\n",
    "plt.show()"
   ]
  },
  {
   "cell_type": "code",
   "execution_count": null,
   "metadata": {},
   "outputs": [],
   "source": [
    "pos = nx.spiral_layout(graph)\n",
    "\n",
    "plt.figure(figsize=(20,12))\n",
    "nx.draw(graph, pos)\n",
    "plt.show()"
   ]
  },
  {
   "cell_type": "code",
   "execution_count": null,
   "metadata": {},
   "outputs": [],
   "source": [
    "pos = nx.fruchterman_reingold_layout(graph)\n",
    "\n",
    "plt.figure(figsize=(20,12))\n",
    "nx.draw(graph, pos)\n",
    "plt.show()"
   ]
  },
  {
   "cell_type": "code",
   "execution_count": null,
   "metadata": {},
   "outputs": [],
   "source": [
    "deg_centrality = nx.degree_centrality(graph)\n",
    "\n",
    "cent = np.fromiter(deg_centrality.values(), float)\n",
    "sizes = cent / np.max(cent) * 200\n",
    "normalize = mcolors.Normalize(vmin=cent.min(), vmax=cent.max())\n",
    "colormap = plt.cm.viridis\n",
    "\n",
    "scalarmappaple = plt.cm.ScalarMappable(norm=normalize, cmap=colormap)\n",
    "scalarmappaple.set_array(cent)\n",
    "\n",
    "plt.colorbar(scalarmappaple)\n",
    "nx.draw(graph, pos, node_size=sizes, node_color=sizes, cmap=colormap) #LAYOUT SPRING\n",
    "plt.show()"
   ]
  },
  {
   "cell_type": "code",
   "execution_count": null,
   "metadata": {},
   "outputs": [],
   "source": [
    "bet = nx.betweenness_centrality(graph)\n",
    "plt.figure(figsize=(15,10))\n",
    "sns.distplot(list(bet.values()), kde=False)"
   ]
  },
  {
   "cell_type": "code",
   "execution_count": null,
   "metadata": {},
   "outputs": [],
   "source": [
    "cent = np.fromiter(bet.values(), float)\n",
    "sizes = cent / np.max(cent) * 200\n",
    "normalize = mcolors.Normalize(vmin=cent.min(), vmax=cent.max())\n",
    "colormap = plt.cm.viridis\n",
    "\n",
    "scalarmappaple = plt.cm.ScalarMappable(norm=normalize, cmap=colormap)\n",
    "scalarmappaple.set_array(cent)\n",
    "\n",
    "plt.colorbar(scalarmappaple)\n",
    "nx.draw(graph, pos, node_size=sizes, node_color=sizes, cmap=colormap)\n",
    "plt.show()"
   ]
  },
  {
   "attachments": {},
   "cell_type": "markdown",
   "metadata": {},
   "source": [
    "### Weighted Graph"
   ]
  },
  {
   "attachments": {},
   "cell_type": "markdown",
   "metadata": {},
   "source": [
    "Analysis is performed on the graph by adding weights. \n",
    "Degree assortativity coefficient is calculated."
   ]
  },
  {
   "cell_type": "code",
   "execution_count": null,
   "metadata": {},
   "outputs": [],
   "source": [
    "# Create a new dataframe 'weights' by grouping the rows of 'hero_df' by columns and counting the size of each\n",
    "# i.e., the number of appearances together \n",
    "weights = hero_df.groupby(hero_df.columns.tolist()).size().reset_index().rename(columns={0: 'weight'})\n",
    "\n",
    "# Group the data by hero1 and hero2 and sum the total weight \n",
    "weights[['hero1','hero2']] = pd.DataFrame(np.sort(weights[['hero1', 'hero2']].values, axis=1))\n",
    "hero_weighted = weights.groupby(['hero1', 'hero2']).weight.sum().reset_index()\n",
    "\n",
    "# Calculate the inverse weight\n",
    "hero_weighted['weight'] = round(1/hero_weighted['weight'],1)\n",
    "\n",
    "# Create a multi graph from the hero_weighted dataframe\n",
    "graphWeight = nx.from_pandas_edgelist(hero_weighted,'hero1','hero2', edge_attr='weight', create_using=nx.MultiGraph())\n"
   ]
  },
  {
   "cell_type": "code",
   "execution_count": null,
   "metadata": {},
   "outputs": [],
   "source": [
    "components = list(nx.connected_components(graphWeight))\n",
    "largest_component = max(components, key=len)\n",
    "graph_weighted = graphWeight.subgraph(largest_component)"
   ]
  },
  {
   "cell_type": "code",
   "execution_count": null,
   "metadata": {},
   "outputs": [],
   "source": [
    "springWeight = nx.spring_layout(H)\n",
    "plt.figure(figsize=(20,12))\n",
    "nx.draw(graph_weighted, springWeight )\n",
    "plt.show()"
   ]
  },
  {
   "cell_type": "code",
   "execution_count": null,
   "metadata": {},
   "outputs": [],
   "source": [
    "kamadaWeight = nx.kamada_kawai_layout(H)\n",
    "plt.figure(figsize=(20,12))\n",
    "nx.draw(graph_weighted, kamadaWeight )\n",
    "plt.show()"
   ]
  },
  {
   "cell_type": "code",
   "execution_count": null,
   "metadata": {},
   "outputs": [],
   "source": [
    "spiralWeight = nx.spiral_layout(H)\n",
    "plt.figure(figsize=(20,12))\n",
    "nx.draw(graph_weighted, spiralWeight )\n",
    "plt.show()"
   ]
  },
  {
   "cell_type": "code",
   "execution_count": null,
   "metadata": {},
   "outputs": [],
   "source": [
    "deg_centrality = nx.degree_centrality(H)\n",
    "\n",
    "cent = np.fromiter(deg_centrality.values(), float)\n",
    "sizes = cent / np.max(cent) * 200\n",
    "normalize = mcolors.Normalize(vmin=cent.min(), vmax=cent.max())\n",
    "colormap = plt.cm.viridis\n",
    "\n",
    "scalarmappaple = plt.cm.ScalarMappable(norm=normalize, cmap=colormap)\n",
    "scalarmappaple.set_array(cent)\n",
    "\n",
    "plt.colorbar(scalarmappaple)\n",
    "nx.draw(graph_weighted, kamadaWeight, node_size=sizes, node_color=sizes, cmap=colormap)\n",
    "plt.show()"
   ]
  },
  {
   "cell_type": "code",
   "execution_count": null,
   "metadata": {},
   "outputs": [],
   "source": [
    "betWeight = nx.betweenness_centrality(H)\n",
    "plt.figure(figsize=(15,10))\n",
    "sns.distplot(list(bet.values()), kde=False)"
   ]
  },
  {
   "cell_type": "code",
   "execution_count": null,
   "metadata": {},
   "outputs": [],
   "source": [
    "\n",
    "cent = np.fromiter(betWeight.values(), float)\n",
    "sizes = cent / np.max(cent) * 200\n",
    "normalize = mcolors.Normalize(vmin=cent.min(), vmax=cent.max())\n",
    "colormap = plt.cm.viridis\n",
    "\n",
    "scalarmappaple = plt.cm.ScalarMappable(norm=normalize, cmap=colormap)\n",
    "scalarmappaple.set_array(cent)\n",
    "\n",
    "plt.colorbar(scalarmappaple)\n",
    "nx.draw(graph_weighted, kamadaWeight, node_size=sizes, node_color=sizes, cmap=colormap)\n",
    "plt.show()"
   ]
  },
  {
   "cell_type": "code",
   "execution_count": null,
   "metadata": {},
   "outputs": [],
   "source": [
    "eccentricity = nx.eccentricity(graph_weighted)\n",
    "diameter = nx.diameter(graph_weighted)\n",
    "radius = nx.radius(graph_weighted)\n",
    "periphery = [node for node, ecc in eccentricity.items() if ecc == diameter]\n",
    "center = [node for node, ecc in eccentricity.items() if ecc == radius]\n",
    "assortativity = nx.degree_assortativity_coefficient(graph_weighted)"
   ]
  },
  {
   "cell_type": "code",
   "execution_count": null,
   "metadata": {},
   "outputs": [],
   "source": [
    "n_nodes = graph_weighted.number_of_nodes()\n",
    "n_edges = graph_weighted.number_of_edges()\n",
    "print(\"NODES: \" + n_nodes)\n",
    "print(\"EDGES: \" + n_edges)"
   ]
  },
  {
   "cell_type": "code",
   "execution_count": null,
   "metadata": {},
   "outputs": [],
   "source": [
    "density = 2*n_edges/(n_nodes*(n_nodes-1))\n",
    "print(\"DENSITY: \" + density)"
   ]
  },
  {
   "cell_type": "code",
   "execution_count": null,
   "metadata": {},
   "outputs": [],
   "source": [
    "print(\"ASSORTATIVITY: \" + assortativity)\n",
    "print(\"RADIUS: \" + radius)\n",
    "print(\"DIAMETER: \" + diameter)\n",
    "print(\"NODES IN PERIPHERY: \" + len(periphery))\n",
    "print(\"NODES IN CENTER: \" + len(center))"
   ]
  },
  {
   "attachments": {},
   "cell_type": "markdown",
   "metadata": {},
   "source": [
    "## Ego Network - Iron Man"
   ]
  },
  {
   "attachments": {},
   "cell_type": "markdown",
   "metadata": {},
   "source": [
    "Let's create an Ego Network on the character of Iron Man. On this Ego Network we go to calculate eigenvector_centrality, closeness and pagerank."
   ]
  },
  {
   "cell_type": "code",
   "execution_count": 7,
   "metadata": {},
   "outputs": [],
   "source": [
    "ego_graph = nx.ego_graph(graph, 'IRON MAN/TONY STARK ')\n",
    "ego_graph = nx.Graph(ego_graph)"
   ]
  },
  {
   "cell_type": "code",
   "execution_count": 8,
   "metadata": {},
   "outputs": [
    {
     "name": "stdout",
     "output_type": "stream",
     "text": [
      "NUMERO DI NODI EGO NETWORK IRON MAN: 1523\n",
      "NUMERO DI ARCHI EGO NETWORK IRON MAN: 73286\n",
      "GRAFO PESATO:  False\n"
     ]
    }
   ],
   "source": [
    "print(\"NUMERO DI NODI EGO NETWORK IRON MAN:\", ego_graph.number_of_nodes())\n",
    "print(\"NUMERO DI ARCHI EGO NETWORK IRON MAN:\", ego_graph.number_of_edges())\n",
    "print(\"GRAFO PESATO: \", nx.is_weighted(ego_graph))  # Output: True"
   ]
  },
  {
   "cell_type": "code",
   "execution_count": 10,
   "metadata": {},
   "outputs": [
    {
     "ename": "TypeError",
     "evalue": "'_AxesStack' object is not callable",
     "output_type": "error",
     "traceback": [
      "\u001b[1;31m---------------------------------------------------------------------------\u001b[0m",
      "\u001b[1;31mTypeError\u001b[0m                                 Traceback (most recent call last)",
      "Cell \u001b[1;32mIn[10], line 3\u001b[0m\n\u001b[0;32m      1\u001b[0m ego_pos \u001b[39m=\u001b[39m nx\u001b[39m.\u001b[39mspring_layout(ego_graph)\n\u001b[0;32m      2\u001b[0m plt\u001b[39m.\u001b[39mfigure(figsize\u001b[39m=\u001b[39m(\u001b[39m20\u001b[39m, \u001b[39m20\u001b[39m))\n\u001b[1;32m----> 3\u001b[0m nx\u001b[39m.\u001b[39;49mdraw(ego_graph, ego_pos)\n\u001b[0;32m      4\u001b[0m plt\u001b[39m.\u001b[39mshow()\n",
      "File \u001b[1;32mc:\\Users\\caros\\anaconda3\\envs\\DataScience\\lib\\site-packages\\networkx\\drawing\\nx_pylab.py:113\u001b[0m, in \u001b[0;36mdraw\u001b[1;34m(G, pos, ax, **kwds)\u001b[0m\n\u001b[0;32m    111\u001b[0m cf\u001b[39m.\u001b[39mset_facecolor(\u001b[39m\"\u001b[39m\u001b[39mw\u001b[39m\u001b[39m\"\u001b[39m)\n\u001b[0;32m    112\u001b[0m \u001b[39mif\u001b[39;00m ax \u001b[39mis\u001b[39;00m \u001b[39mNone\u001b[39;00m:\n\u001b[1;32m--> 113\u001b[0m     \u001b[39mif\u001b[39;00m cf\u001b[39m.\u001b[39;49m_axstack() \u001b[39mis\u001b[39;00m \u001b[39mNone\u001b[39;00m:\n\u001b[0;32m    114\u001b[0m         ax \u001b[39m=\u001b[39m cf\u001b[39m.\u001b[39madd_axes((\u001b[39m0\u001b[39m, \u001b[39m0\u001b[39m, \u001b[39m1\u001b[39m, \u001b[39m1\u001b[39m))\n\u001b[0;32m    115\u001b[0m     \u001b[39melse\u001b[39;00m:\n",
      "\u001b[1;31mTypeError\u001b[0m: '_AxesStack' object is not callable"
     ]
    },
    {
     "data": {
      "text/plain": [
       "<Figure size 2000x2000 with 0 Axes>"
      ]
     },
     "metadata": {},
     "output_type": "display_data"
    }
   ],
   "source": [
    "ego_pos = nx.spring_layout(ego_graph)\n",
    "plt.figure(figsize=(20, 20))\n",
    "nx.draw(ego_graph, ego_pos)\n",
    "plt.show()"
   ]
  },
  {
   "cell_type": "code",
   "execution_count": null,
   "metadata": {},
   "outputs": [],
   "source": [
    "closeness_centrality = nx.closeness_centrality(ego_graph)\n",
    "\n",
    "plt.figure(figsize=(20,15))\n",
    "cent = np.fromiter(closeness_centrality.values(), float)\n",
    "sizes = cent / np.max(cent) * 200\n",
    "normalize = mcolors.Normalize(vmin=cent.min(), vmax=cent.max())\n",
    "colormap = plt.cm.viridis\n",
    "\n",
    "scalarmappaple = plt.cm.ScalarMappable(norm=normalize, cmap=colormap)\n",
    "scalarmappaple.set_array(cent)\n",
    "plt.colorbar(scalarmappaple)\n",
    "\n",
    "nx.draw(ego_graph, ego_pos, node_size=25, node_color=sizes, cmap=colormap) #LAYOUT SPRING\n",
    "plt.show()"
   ]
  },
  {
   "cell_type": "code",
   "execution_count": null,
   "metadata": {},
   "outputs": [],
   "source": [
    "eigenvector_centrality = nx.eigenvector_centrality(ego_graph)\n",
    "\n",
    "plt.figure(figsize=(20,15))\n",
    "cent = np.fromiter(eigenvector_centrality.values(), float)\n",
    "sizes = cent / np.max(cent) * 200\n",
    "normalize = mcolors.Normalize(vmin=cent.min(), vmax=cent.max())\n",
    "colormap = plt.cm.viridis\n",
    "\n",
    "scalarmappaple = plt.cm.ScalarMappable(norm=normalize, cmap=colormap)\n",
    "scalarmappaple.set_array(cent)\n",
    "plt.colorbar(scalarmappaple)\n",
    "\n",
    "nx.draw(ego_graph, ego_pos, node_size=25, node_color=sizes, cmap=colormap) #LAYOUT SPRING\n",
    "plt.show()"
   ]
  },
  {
   "cell_type": "code",
   "execution_count": null,
   "metadata": {},
   "outputs": [],
   "source": [
    "pagerank = nx.pagerank(ego_graph)\n",
    "\n",
    "plt.figure(figsize=(20,15))\n",
    "cent = np.fromiter(pagerank.values(), float)\n",
    "sizes = cent / np.max(cent) * 200\n",
    "normalize = mcolors.Normalize(vmin=cent.min(), vmax=cent.max())\n",
    "colormap = plt.cm.viridis\n",
    "\n",
    "scalarmappaple = plt.cm.ScalarMappable(norm=normalize, cmap=colormap)\n",
    "scalarmappaple.set_array(cent)\n",
    "plt.colorbar(scalarmappaple)\n",
    "\n",
    "nx.draw(ego_graph, ego_pos, node_size=25, node_color=sizes, cmap=colormap) #LAYOUT SPRING\n",
    "plt.show()"
   ]
  },
  {
   "attachments": {},
   "cell_type": "markdown",
   "metadata": {},
   "source": [
    "### Communities\n"
   ]
  },
  {
   "attachments": {},
   "cell_type": "markdown",
   "metadata": {},
   "source": [
    "Analysis on network partitions and creation of a micro-network with only the best edges."
   ]
  },
  {
   "cell_type": "code",
   "execution_count": null,
   "metadata": {},
   "outputs": [],
   "source": [
    "partition = community_louvain.best_partition(ego_graph)  # compute communities\n",
    "\n",
    "plt.figure(figsize=(20,20)) \n",
    "plt.axis('off')\n",
    "nx.draw_networkx_nodes(ego_graph, ego_pos, node_size=60, cmap=plt.cm.RdYlBu, node_color=list(partition.values()))\n",
    "nx.draw_networkx_edges(ego_graph, ego_pos, alpha=0.3)\n",
    "plt.show(ego_graph)"
   ]
  },
  {
   "cell_type": "code",
   "execution_count": null,
   "metadata": {},
   "outputs": [],
   "source": [
    "from scipy.cluster.hierarchy import linkage, dendrogram\n",
    "\n",
    "community_count = max(partition.values()) +1\n",
    "\n",
    "community_similarity = np.zeros((community_count, community_count))\n",
    "for node1, com1 in partition.items():\n",
    "    for node2, com2 in partition.items():\n",
    "        if com1 == com2:\n",
    "            continue\n",
    "        if ego_graph.has_edge(node1, node2):\n",
    "            community_similarity[com1][com2] += 1\n",
    "\n",
    "# perform linkage clustering on the similarity matrix\n",
    "linkage_matrix = linkage(community_similarity, method='ward')\n",
    "\n",
    "# plot dendrogram\n",
    "plt.figure(figsize=(20,10))\n",
    "dendrogram(linkage_matrix, labels=[f\"Community {i}\" for i in range(community_count)])\n",
    "plt.show()"
   ]
  },
  {
   "cell_type": "code",
   "execution_count": null,
   "metadata": {},
   "outputs": [],
   "source": [
    "weight_threshold = 0.01\n",
    "# Itera on graph nodes\n",
    "for node in list(ego_graph.nodes()):\n",
    "  # Itera non node neighbors\n",
    "  for neighbor in list(ego_graph.neighbors(node)):\n",
    "    # If the weight of the edge is above the threshold, remove the node and edge\n",
    "    if ego_graph[node][neighbor][\"weight\"] > weight_threshold:\n",
    "      ego_graph.remove_edge(node, neighbor)\n",
    "\n",
    "for node in list(ego_graph.nodes()):\n",
    "  # If the node has no neighbors, remove it\n",
    "  if len(list(ego_graph.neighbors(node))) ==0:\n",
    "    ego_graph.remove_node(node)\n",
    "\n",
    "components = list(nx.connected_components(ego_graph))\n",
    "largest_component = max(components, key=len)\n",
    "ego_graph = ego_graph.subgraph(largest_component)\n",
    "\n",
    "print(\"NODES:\", ego_graph.number_of_nodes())\n",
    "print(\"EDGES:\", ego_graph.number_of_edges())\n",
    "print(\"WEIGHTED:\" + nx.is_weighted(graph))  # Output: True"
   ]
  },
  {
   "cell_type": "code",
   "execution_count": null,
   "metadata": {},
   "outputs": [],
   "source": [
    "ego_pos = nx.spring_layout(ego_graph)\n",
    "plt.figure(figsize=(20, 20))\n",
    "nx.draw(ego_graph, ego_pos, node_color= '#ff0000', node_size = 125, with_labels = True)\n",
    "plt.show()"
   ]
  },
  {
   "attachments": {},
   "cell_type": "markdown",
   "metadata": {},
   "source": [
    "## Sampled Graph"
   ]
  },
  {
   "cell_type": "code",
   "execution_count": 38,
   "metadata": {},
   "outputs": [
    {
     "name": "stdout",
     "output_type": "stream",
     "text": [
      "Hero: QUICKSILVER/PIETRO M | Degree Centrality: 0.1471571906354515\n",
      "Hero: NIGHTCRAWLER/KURT WA | Degree Centrality: 0.14046822742474915\n",
      "Hero: MOCKINGBIRD/DR. BARB | Degree Centrality: 0.06354515050167224\n",
      "Hero: STARFOX/EROS | Degree Centrality: 0.06020066889632107\n",
      "Hero: MOON KNIGHT/MARC SPE | Degree Centrality: 0.056856187290969896\n",
      "Hero: SHANNA/SHANNA O'HARA | Degree Centrality: 0.05351170568561873\n",
      "Hero: PYRO/ALLERDYCE JOHNN | Degree Centrality: 0.043478260869565216\n",
      "Hero: IGOR | Degree Centrality: 0.04013377926421405\n",
      "Hero: ABSORBING MAN/CARL C | Degree Centrality: 0.04013377926421405\n",
      "Hero: JAMESON, COL. JOHN  | Degree Centrality: 0.04013377926421405\n",
      "Hero: TILBY, TRISH/PATRICI | Degree Centrality: 0.03678929765886287\n",
      "Hero: CORSAIR | Degree Centrality: 0.033444816053511704\n",
      "Hero: GREY, DR. JOHN | Degree Centrality: 0.033444816053511704\n",
      "Hero: RED WOLF III/WILL TA | Degree Centrality: 0.030100334448160536\n",
      "Hero: ZARRKO, ARTHUR | Degree Centrality: 0.030100334448160536\n",
      "Hero: NIGHTHAWK/KYLE RICHM | Degree Centrality: 0.023411371237458192\n",
      "Hero: FIZ [SKRULL] | Degree Centrality: 0.023411371237458192\n",
      "Hero: LIZARD/DR. CURTIS CO | Degree Centrality: 0.023411371237458192\n",
      "Hero: WING, COLLEEN | Degree Centrality: 0.020066889632107024\n",
      "Hero: FIRELORD/PYREUS KRIL | Degree Centrality: 0.020066889632107024\n",
      "Hero: GLABOO | Degree Centrality: 0.020066889632107024\n",
      "Hero: WHITMAN, DEBRA | Degree Centrality: 0.020066889632107024\n",
      "Hero: MAXIMUS [INHUMAN] | Degree Centrality: 0.020066889632107024\n",
      "Hero: CORRUPTOR/JACKSON DA | Degree Centrality: 0.020066889632107024\n",
      "Hero: BOWEN, FATHER MICHAE | Degree Centrality: 0.020066889632107024\n",
      "Hero: BUSHKIN, BARNEY | Degree Centrality: 0.020066889632107024\n",
      "Hero: KARNILLA [ASGARDIAN] | Degree Centrality: 0.020066889632107024\n",
      "Hero: TESSA | Degree Centrality: 0.020066889632107024\n",
      "Hero: KIRBY, JACK | Degree Centrality: 0.020066889632107024\n",
      "Hero: MISS LOCKE | Degree Centrality: 0.020066889632107024\n",
      "Hero: HUNTARA/MARY ELIZABE | Degree Centrality: 0.020066889632107024\n",
      "Hero: MERLIN | Degree Centrality: 0.016722408026755852\n",
      "Hero: OZYMANDIAS | Degree Centrality: 0.016722408026755852\n",
      "Hero: TARGON | Degree Centrality: 0.013377926421404682\n",
      "Hero: ALCHEMY/THOMAS JONES | Degree Centrality: 0.013377926421404682\n",
      "Hero: BEL-DANN, GEN. | Degree Centrality: 0.013377926421404682\n",
      "Hero: WOLFMAN, MARV | Degree Centrality: 0.013377926421404682\n",
      "Hero: NIGHT RIDER III/HAMI | Degree Centrality: 0.013377926421404682\n",
      "Hero: ST. THOMAS, JULES | Degree Centrality: 0.013377926421404682\n",
      "Hero: CUTTHROAT/DANIEL LEI | Degree Centrality: 0.013377926421404682\n",
      "Hero: POWER, MARGARET | Degree Centrality: 0.013377926421404682\n",
      "Hero: ROTH, ARNIE | Degree Centrality: 0.013377926421404682\n",
      "Hero: ARON [WATCHER] | Degree Centrality: 0.013377926421404682\n",
      "Hero: TASKMASTER | Degree Centrality: 0.013377926421404682\n",
      "Hero: DAKIMH THE ENCHANTER | Degree Centrality: 0.013377926421404682\n",
      "Hero: FERON | Degree Centrality: 0.010033444816053512\n",
      "Hero: UNICORN/MYLOS MASARY | Degree Centrality: 0.010033444816053512\n",
      "Hero: BENTLEY, VICTORIA | Degree Centrality: 0.010033444816053512\n",
      "Hero: PEREZ, GEORGE | Degree Centrality: 0.010033444816053512\n",
      "Hero: CHAINSAW | Degree Centrality: 0.010033444816053512\n",
      "Hero: KANGAROO II | Degree Centrality: 0.010033444816053512\n",
      "Hero: CLAYTON, KATRINKA JA | Degree Centrality: 0.010033444816053512\n",
      "Hero: NETWORK NINA | Degree Centrality: 0.010033444816053512\n",
      "Hero: MOREAU, PHILLIP | Degree Centrality: 0.010033444816053512\n",
      "Hero: JAYE-FIRESTONE, GING | Degree Centrality: 0.010033444816053512\n",
      "Hero: JACK FLAG | Degree Centrality: 0.010033444816053512\n",
      "Hero: CENTURY | Degree Centrality: 0.010033444816053512\n",
      "Hero: GRUENWALD, MARK | Degree Centrality: 0.010033444816053512\n",
      "Hero: JACKAL/MILES WARREN | Degree Centrality: 0.010033444816053512\n",
      "Hero: BURLEY, MIKE | Degree Centrality: 0.010033444816053512\n",
      "Hero: TINKERER | Degree Centrality: 0.010033444816053512\n",
      "Hero: LANN | Degree Centrality: 0.010033444816053512\n",
      "Hero: DIBDEB | Degree Centrality: 0.006688963210702341\n",
      "Hero: ARKO | Degree Centrality: 0.006688963210702341\n",
      "Hero: COBALT II | Degree Centrality: 0.006688963210702341\n",
      "Hero: TILDA | Degree Centrality: 0.006688963210702341\n",
      "Hero: CROSS, GENEVIEVE | Degree Centrality: 0.006688963210702341\n",
      "Hero: CHURCH, LYNN | Degree Centrality: 0.006688963210702341\n",
      "Hero: AQUARIUS II | Degree Centrality: 0.006688963210702341\n",
      "Hero: GUILOTINE | Degree Centrality: 0.006688963210702341\n",
      "Hero: UNI-LORD | Degree Centrality: 0.006688963210702341\n",
      "Hero: MAXOV | Degree Centrality: 0.006688963210702341\n",
      "Hero: STACY, GWEN (CLONE) | Degree Centrality: 0.006688963210702341\n",
      "Hero: HILARY | Degree Centrality: 0.006688963210702341\n",
      "Hero: SINTARIIS | Degree Centrality: 0.006688963210702341\n",
      "Hero: NELSON, CANDACE | Degree Centrality: 0.006688963210702341\n",
      "Hero: ECSTACY/MME. RENE DE | Degree Centrality: 0.006688963210702341\n",
      "Hero: GRASSWIND, Z'OOFREY | Degree Centrality: 0.006688963210702341\n",
      "Hero: POLARIS DOPPELGANGER | Degree Centrality: 0.006688963210702341\n",
      "Hero: BADALAMENTE, JESUS | Degree Centrality: 0.006688963210702341\n",
      "Hero: PSYNAPSE | Degree Centrality: 0.006688963210702341\n",
      "Hero: CHASE, DETECTIVE SLO | Degree Centrality: 0.006688963210702341\n",
      "Hero: WARHEAD/GREGORY SLIV | Degree Centrality: 0.006688963210702341\n",
      "Hero: KRAKOA | Degree Centrality: 0.006688963210702341\n",
      "Hero: OMNIBUS/LT. DALLAS | Degree Centrality: 0.006688963210702341\n",
      "Hero: DEATH-STALKER | Degree Centrality: 0.006688963210702341\n",
      "Hero: CUT | Degree Centrality: 0.006688963210702341\n",
      "Hero: MOONRAKER/SLADE TRUM | Degree Centrality: 0.006688963210702341\n",
      "Hero: PEEL, EMMA | Degree Centrality: 0.006688963210702341\n",
      "Hero: JESTER III | Degree Centrality: 0.006688963210702341\n",
      "Hero: CRIPPLER/KARL STRIKL | Degree Centrality: 0.006688963210702341\n",
      "Hero: YRDISIS | Degree Centrality: 0.006688963210702341\n",
      "Hero: BERYL | Degree Centrality: 0.006688963210702341\n",
      "Hero: 4-D MAN/MERCURIO | Degree Centrality: 0.006688963210702341\n",
      "Hero: DYNA-MITE/ROGER AUBR | Degree Centrality: 0.006688963210702341\n",
      "Hero: GAARK | Degree Centrality: 0.0033444816053511705\n",
      "Hero: AYALA, AWILDA | Degree Centrality: 0.0033444816053511705\n",
      "Hero: MANTLO, BILL | Degree Centrality: 0.0033444816053511705\n",
      "Hero: DUSK III | Degree Centrality: 0.0033444816053511705\n",
      "Hero: TOWNSEND, CHRIS | Degree Centrality: 0.0033444816053511705\n",
      "Hero: FEUER | Degree Centrality: 0.0033444816053511705\n",
      "Hero: DEAN, SUSAN | Degree Centrality: 0.0033444816053511705\n",
      "Hero: SWITCH/DEVON ALOMAR | Degree Centrality: 0.0033444816053511705\n",
      "Hero: OTHER | Degree Centrality: 0.0033444816053511705\n",
      "Hero: MEPHISITOID | Degree Centrality: 0.0033444816053511705\n",
      "Hero: LUMP | Degree Centrality: 0.0033444816053511705\n",
      "Hero: SMITH, MARTY LOUIS L | Degree Centrality: 0.0033444816053511705\n",
      "Hero: SANDOVAL, JULIANA | Degree Centrality: 0.0033444816053511705\n",
      "Hero: KLEB, ROSA | Degree Centrality: 0.0033444816053511705\n",
      "Hero: VONYA, DR. ANATOLY | Degree Centrality: 0.0033444816053511705\n",
      "Hero: GOONER, MELVIN | Degree Centrality: 0.0033444816053511705\n",
      "Hero: EL TORO NEGRO/SERGIO | Degree Centrality: 0.0033444816053511705\n",
      "Hero: POLTERGEIST/MICKEY S | Degree Centrality: 0.0033444816053511705\n",
      "Hero: ROLLINS, MRS. | Degree Centrality: 0.0033444816053511705\n",
      "Hero: QUINN, MR. | Degree Centrality: 0.0033444816053511705\n",
      "Hero: HASTINGS, PROF. LOUI | Degree Centrality: 0.0033444816053511705\n",
      "Hero: WITNESS/NESS | Degree Centrality: 0.0033444816053511705\n",
      "Hero: KOSHIMA | Degree Centrality: 0.0033444816053511705\n",
      "Hero: MROTH | Degree Centrality: 0.0033444816053511705\n",
      "Hero: O'NEILL, DET. BRADY | Degree Centrality: 0.0033444816053511705\n",
      "Hero: CALDRONE, JAVIER | Degree Centrality: 0.0033444816053511705\n",
      "Hero: DEATHLOK III DOPPELG | Degree Centrality: 0.0033444816053511705\n",
      "Hero: RIOT II | Degree Centrality: 0.0033444816053511705\n",
      "Hero: STONE, CHANTAL | Degree Centrality: 0.0033444816053511705\n",
      "Hero: LOBO III | Degree Centrality: 0.0033444816053511705\n",
      "Hero: DR. SPECTRUM III/REV | Degree Centrality: 0.0033444816053511705\n",
      "Hero: TELLIS | Degree Centrality: 0.0033444816053511705\n",
      "Hero: THORPE, LUKE | Degree Centrality: 0.0033444816053511705\n",
      "Hero: HUNCH | Degree Centrality: 0.0033444816053511705\n",
      "Hero: ZAMORA, PETE | Degree Centrality: 0.0033444816053511705\n",
      "Hero: CANDY | Degree Centrality: 0.0033444816053511705\n",
      "Hero: DOC | Degree Centrality: 0.0033444816053511705\n",
      "Hero: FLASH/BARRY ALLEN/BU | Degree Centrality: 0.0033444816053511705\n",
      "Hero: KAMIKAZE | Degree Centrality: 0.0033444816053511705\n",
      "Hero: GUARDIAN IV | Degree Centrality: 0.0033444816053511705\n",
      "Hero: DEAN, DARBY | Degree Centrality: 0.0033444816053511705\n",
      "Hero: HYNNIT | Degree Centrality: 0.0033444816053511705\n",
      "Hero: PAVANE II | Degree Centrality: 0.0033444816053511705\n",
      "Hero: YANDROTH | Degree Centrality: 0.0033444816053511705\n",
      "Hero: SZARDOS, STEFAN | Degree Centrality: 0.0033444816053511705\n",
      "Hero: ANAK | Degree Centrality: 0.0033444816053511705\n",
      "Hero: SCHOENFELD, ELAINE | Degree Centrality: 0.0033444816053511705\n",
      "Hero: HAAG | Degree Centrality: 0.0033444816053511705\n",
      "Hero: URSON-WELLZ | Degree Centrality: 0.0033444816053511705\n",
      "Hero: CRIME-MASTER/NICK LU | Degree Centrality: 0.0033444816053511705\n",
      "Hero: WIDOW-MAKER | Degree Centrality: 0.0033444816053511705\n",
      "Hero: JEFFRIES, MAGGIE  | Degree Centrality: 0.0033444816053511705\n",
      "Hero: MANT/ERNEST | Degree Centrality: 0.0033444816053511705\n",
      "Hero: CAT BURGLAR | Degree Centrality: 0.0033444816053511705\n",
      "Hero: CONTRARES, ANASTASIA | Degree Centrality: 0.0033444816053511705\n",
      "Hero: MARLEY, MITCH MADMAN | Degree Centrality: 0.0033444816053511705\n",
      "Hero: MISS THING/MARY | Degree Centrality: 0.0033444816053511705\n",
      "Hero: CAT IV | Degree Centrality: 0.0033444816053511705\n",
      "Hero: SNOW, TANDY | Degree Centrality: 0.0033444816053511705\n",
      "Hero: TRYKUR | Degree Centrality: 0.0033444816053511705\n",
      "Hero: BALDWIN, JUSTIN | Degree Centrality: 0.0033444816053511705\n",
      "Hero: BRUTUS KLOR | Degree Centrality: 0.0033444816053511705\n",
      "Hero: MANH, COY TRANH | Degree Centrality: 0.0033444816053511705\n",
      "Hero: PRYDE, TERRI | Degree Centrality: 0.0033444816053511705\n",
      "Hero: ASHUR | Degree Centrality: 0.0033444816053511705\n",
      "Hero: LIONMANE/GEN. LO CHI | Degree Centrality: 0.0033444816053511705\n",
      "Hero: PULSAR II/LAN | Degree Centrality: 0.0033444816053511705\n",
      "Hero: THRAXON | Degree Centrality: 0.0033444816053511705\n",
      "Hero: MR. FX | Degree Centrality: 0.0033444816053511705\n",
      "Hero: METEORITE III/VALERI | Degree Centrality: 0.0033444816053511705\n",
      "Hero: DELANY, CAPT. | Degree Centrality: 0.0033444816053511705\n",
      "Hero: LEGS | Degree Centrality: 0.0033444816053511705\n",
      "Hero: CONQUEST/BRIDGET MAL | Degree Centrality: 0.0033444816053511705\n",
      "Hero: LIBERATOR/PRINCE TRI | Degree Centrality: 0.0033444816053511705\n",
      "Hero: ROCKET RACCOON | Degree Centrality: 0.0033444816053511705\n",
      "Hero: KARLSON, KAREN | Degree Centrality: 0.0033444816053511705\n",
      "Hero: CLARIS, SVEN | Degree Centrality: 0.0\n",
      "Hero: RED RONIN | Degree Centrality: 0.0\n",
      "Hero: HIGGINS, LINDA | Degree Centrality: 0.0\n",
      "Hero: TINAC | Degree Centrality: 0.0\n",
      "Hero: BERTRAM | Degree Centrality: 0.0\n",
      "Hero: ZELIG, LON | Degree Centrality: 0.0\n",
      "Hero: SPORE | Degree Centrality: 0.0\n",
      "Hero: VERMIN II | Degree Centrality: 0.0\n",
      "Hero: NHU'ABDAR | Degree Centrality: 0.0\n",
      "Hero: LEVESSEUR, LARENT | Degree Centrality: 0.0\n",
      "Hero: LONGARM | Degree Centrality: 0.0\n",
      "Hero: DANIELS, BRIE | Degree Centrality: 0.0\n",
      "Hero: GAMMA-BURN | Degree Centrality: 0.0\n",
      "Hero: FUGUE | Degree Centrality: 0.0\n",
      "Hero: FAVERSHAM, DAPHNE | Degree Centrality: 0.0\n",
      "Hero: BOOBYTRAP | Degree Centrality: 0.0\n",
      "Hero: METABO | Degree Centrality: 0.0\n",
      "Hero: CASPER | Degree Centrality: 0.0\n",
      "Hero: HACK | Degree Centrality: 0.0\n",
      "Hero: BLACK, CAL | Degree Centrality: 0.0\n",
      "Hero: OLALLA | Degree Centrality: 0.0\n",
      "Hero: AQUARIUS III | Degree Centrality: 0.0\n",
      "Hero: GUNTLY, DAVID | Degree Centrality: 0.0\n",
      "Hero: TAE | Degree Centrality: 0.0\n",
      "Hero: KWANNON | Degree Centrality: 0.0\n",
      "Hero: FANTASIA | Degree Centrality: 0.0\n",
      "Hero: ROMANOV, MICKEY | Degree Centrality: 0.0\n",
      "Hero: URTHONA | Degree Centrality: 0.0\n",
      "Hero: BLACKSHEAR, JONAS | Degree Centrality: 0.0\n",
      "Hero: CRAWFORD, GEN. | Degree Centrality: 0.0\n",
      "Hero: GREEN GOBLIN V | Degree Centrality: 0.0\n",
      "Hero: MR. FEAR/ZOLTAN DRAG | Degree Centrality: 0.0\n",
      "Hero: BOOKWORM/NELSON GRUB | Degree Centrality: 0.0\n",
      "Hero: KLEIN, CAMERON | Degree Centrality: 0.0\n",
      "Hero: WOLMAN, GIDEON | Degree Centrality: 0.0\n",
      "Hero: CYBERSLIK | Degree Centrality: 0.0\n",
      "Hero: WRECKER/DR. KARL KOR | Degree Centrality: 0.0\n",
      "Hero: SHAMAN III | Degree Centrality: 0.0\n",
      "Hero: SNOW, CHARLIE | Degree Centrality: 0.0\n",
      "Hero: WILD TIGER/DENG LING | Degree Centrality: 0.0\n",
      "Hero: CORNELIUS, DR. | Degree Centrality: 0.0\n",
      "Hero: RINGO KID | Degree Centrality: 0.0\n",
      "Hero: MONGRAIN, ALISON | Degree Centrality: 0.0\n",
      "Hero: LEVIATHAN | Degree Centrality: 0.0\n",
      "Hero: TIAMAT | Degree Centrality: 0.0\n",
      "Hero: STINGER | Degree Centrality: 0.0\n",
      "Hero: VENOMM | Degree Centrality: 0.0\n",
      "Hero: TEQUILA | Degree Centrality: 0.0\n",
      "Hero: POGUE, BARTON | Degree Centrality: 0.0\n",
      "Hero: SIMMONS, RANDALL | Degree Centrality: 0.0\n",
      "Hero: NURIL | Degree Centrality: 0.0\n",
      "Hero: COFFIN, WARDEN JOHNS | Degree Centrality: 0.0\n",
      "Hero: ANTIBODY | Degree Centrality: 0.0\n",
      "Hero: PHANTOM EAGLE | Degree Centrality: 0.0\n",
      "Hero: HO TI | Degree Centrality: 0.0\n",
      "Hero: TERMINATOR | Degree Centrality: 0.0\n",
      "Hero: VAUGHAN, GAYLE | Degree Centrality: 0.0\n",
      "Hero: WATSON, TOMMY | Degree Centrality: 0.0\n",
      "Hero: OGADA, DR. | Degree Centrality: 0.0\n",
      "Hero: ARCTURUS | Degree Centrality: 0.0\n",
      "Hero: BURKE, GWYNETH | Degree Centrality: 0.0\n",
      "Hero: DRAKE, MALCOLM | Degree Centrality: 0.0\n",
      "Hero: FORTUNE, DOMINIC | Degree Centrality: 0.0\n",
      "Hero: DR. MIDAS | Degree Centrality: 0.0\n",
      "Hero: MASTER MOLD III | Degree Centrality: 0.0\n",
      "Hero: GALTUS | Degree Centrality: 0.0\n",
      "Hero: INVISIBLE WOMAN DOPP | Degree Centrality: 0.0\n",
      "Hero: DIAMOND HEAD | Degree Centrality: 0.0\n",
      "Hero: TITHE COLLECTOR | Degree Centrality: 0.0\n",
      "Hero: DIAMOND, CHUCKY | Degree Centrality: 0.0\n",
      "Hero: KRANG II | Degree Centrality: 0.0\n",
      "Hero: NIGHT PHANTOM/TRAVIS | Degree Centrality: 0.0\n",
      "Hero: TAKACHIHO, HIRO | Degree Centrality: 0.0\n",
      "Hero: DUCRESTE, ABRIAN | Degree Centrality: 0.0\n",
      "Hero: PARSONS, DR. DEREK | Degree Centrality: 0.0\n",
      "Hero: GLAZER, FAST FREDDY | Degree Centrality: 0.0\n",
      "Hero: MOJO II | Degree Centrality: 0.0\n",
      "Hero: PROFESSOR X | EARTH  | Degree Centrality: 0.0\n",
      "Hero: CHALMERS, CYNTHIA | Degree Centrality: 0.0\n",
      "Hero: SHE-WOLF/PAULETTE BR | Degree Centrality: 0.0\n",
      "Hero: LOPEZ, MARIA | Degree Centrality: 0.0\n",
      "Hero: GARFIELD, MURRAY | Degree Centrality: 0.0\n",
      "Hero: COMPUTO | Degree Centrality: 0.0\n",
      "Hero: DICHINSON, RICKY | Degree Centrality: 0.0\n",
      "Hero: DUGAN, DUM DUM | MUT | Degree Centrality: 0.0\n",
      "Hero: KEY | Degree Centrality: 0.0\n",
      "Hero: HATORI, DESMOND | Degree Centrality: 0.0\n",
      "Hero: MALTZ | Degree Centrality: 0.0\n",
      "Hero: REINHOLDT | Degree Centrality: 0.0\n",
      "Hero: CALEDONIA/ALISANDE S | Degree Centrality: 0.0\n",
      "Hero: TIMMONS | Degree Centrality: 0.0\n",
      "Hero: SEGAR, OWEN | Degree Centrality: 0.0\n",
      "Hero: BERDITCHEV, ITZHAK | Degree Centrality: 0.0\n",
      "Hero: OX IV | Degree Centrality: 0.0\n",
      "Hero: APOSTATE | Degree Centrality: 0.0\n",
      "Hero: PILLMAN, JIM | Degree Centrality: 0.0\n",
      "Hero: TANAKA, GEORGE | Degree Centrality: 0.0\n",
      "Hero: EVANS, DORIS | Degree Centrality: 0.0\n",
      "Hero: WOO, SONIA | Degree Centrality: 0.0\n",
      "Hero: PORTER, KIM | Degree Centrality: 0.0\n",
      "Hero: TRAVERS, MIKE | Degree Centrality: 0.0\n",
      "Hero: KAISHEK, HAAN | Degree Centrality: 0.0\n",
      "Hero: STARR, JACQUELINE | Degree Centrality: 0.0\n",
      "Hero: ECLIPTIC | Degree Centrality: 0.0\n",
      "Hero: CIRE, EZRA | Degree Centrality: 0.0\n",
      "Hero: WATSON, PHILIP | Degree Centrality: 0.0\n",
      "Hero: DOOP | Degree Centrality: 0.0\n",
      "Hero: MCCORMICK, BARRY | Degree Centrality: 0.0\n",
      "Hero: LUCAS, JAMES | Degree Centrality: 0.0\n",
      "Hero: PSIMON | Degree Centrality: 0.0\n",
      "Hero: GUTHRIE, JOELLE | Degree Centrality: 0.0\n",
      "Hero: MOODY, RUNYAN | Degree Centrality: 0.0\n",
      "Hero: PEARSON, AUBREY | Degree Centrality: 0.0\n",
      "Hero: DOOMSDAY MAN II | Degree Centrality: 0.0\n",
      "Hero: KO-GAR | Degree Centrality: 0.0\n",
      "Hero: NOCTURNE II/ANGELA C | Degree Centrality: 0.0\n",
      "Hero: GANYMEDE | Degree Centrality: 0.0\n",
      "Hero: 8-BALL | Degree Centrality: 0.0\n",
      "Hero: LIBERTY GIRL/BEV | Degree Centrality: 0.0\n",
      "Hero: DORREK II | Degree Centrality: 0.0\n",
      "Hero: STYX/JACOB EICHORN | Degree Centrality: 0.0\n",
      "Hero: BARRIER | Degree Centrality: 0.0\n",
      "Hero: ULYSSES | Degree Centrality: 0.0\n",
      "Hero: ROSE, HENRIETTA | Degree Centrality: 0.0\n",
      "Hero: GELLER, URI | Degree Centrality: 0.0\n",
      "Hero: BRAWN, TRISTAN | Degree Centrality: 0.0\n",
      "Hero: ELEC'TRIX | Degree Centrality: 0.0\n",
      "Hero: APOCRYPHUS | Degree Centrality: 0.0\n",
      "Hero: PROVENZANO, PAULIE | Degree Centrality: 0.0\n"
     ]
    },
    {
     "name": "stderr",
     "output_type": "stream",
     "text": [
      "C:\\Users\\caros\\AppData\\Local\\Temp\\ipykernel_4948\\1907992890.py:21: DeprecationWarning: Sampling from a set deprecated\n",
      "since Python 3.9 and will be removed in a subsequent version.\n",
      "  random_nodes = random.sample(G.nodes, 300)\n"
     ]
    }
   ],
   "source": [
    "import pandas as pd\n",
    "import networkx as nx\n",
    "import random\n",
    "\n",
    "# Load hero_df dataframe data from hero-network.csv\n",
    "hero_df = pd.read_csv('hero-network.csv')\n",
    "\n",
    "# Deletes the '/' character at the end of the of each name and truncates the words to 20 characters\n",
    "hero_df['hero1'] = hero_df['hero1'].apply(lambda x: x.rstrip('/')[:20])\n",
    "hero_df['hero2'] = hero_df['hero2'].apply(lambda x: x.rstrip('/')[:20])\n",
    "\n",
    "#Deletes lines with a hero linked to itselfhero_df.drop(hero_df[hero_df['hero1'] == hero_df['hero2']].index, inplace = True)\n",
    "hero_df.drop(hero_df[hero_df['hero1'] == hero_df['hero2']].index, inplace = True)\n",
    "\n",
    "# Create a graph using the values of the rows in the dataframe\n",
    "G = nx.Graph()\n",
    "G.add_edges_from(hero_df[[\"hero1\", \"hero2\"]].values)\n",
    "\n",
    "# Extract a subgraph of 300 random nodes\n",
    "random.seed(42)\n",
    "random_nodes = random.sample(G.nodes, 300)\n",
    "subgraph = G.subgraph(random_nodes)\n",
    "\n",
    "# Calculate degree centrality for each node and save it in a dictionary\n",
    "degree_centrality = nx.degree_centrality(subgraph)\n",
    "\n",
    "# Sort degree centrality values in descending order\n",
    "sorted_degree_centrality = dict(sorted(degree_centrality.items(), key=lambda item: item[1], reverse=True))\n",
    "\n",
    "# Print sorted degree centrality values\n",
    "for hero, centrality in sorted_degree_centrality.items():\n",
    "    print(\"Hero:\", hero, \"| Degree Centrality:\", centrality)\n"
   ]
  },
  {
   "cell_type": "code",
   "execution_count": 39,
   "metadata": {},
   "outputs": [
    {
     "data": {
      "image/png": "[encoded data removed]",
      "text/plain": [
       "<Figure size 640x480 with 1 Axes>"
      ]
     },
     "metadata": {},
     "output_type": "display_data"
    },
    {
     "name": "stdout",
     "output_type": "stream",
     "text": [
      "Mean Degree Centrality: 0.00673355629877369\n"
     ]
    },
    {
     "data": {
      "image/png": "[encoded data removed]",
      "text/plain": [
       "<Figure size 640x480 with 1 Axes>"
      ]
     },
     "metadata": {},
     "output_type": "display_data"
    }
   ],
   "source": [
    "# Plot histogram of degree centrality values\n",
    "plt.hist(list(degree_centrality.values()), bins=20, edgecolor='black')\n",
    "plt.xlabel('Degree Centrality')\n",
    "plt.ylabel('Number of Nodes')\n",
    "plt.title('Histogram of Degree Centrality Values')\n",
    "plt.show()\n",
    "\n",
    "# Calculate mean degree centrality\n",
    "mean_degree_centrality = np.mean(list(degree_centrality.values()))\n",
    "print(\"Mean Degree Centrality:\", mean_degree_centrality)\n",
    "\n",
    "# Plot bar graph of top 10 nodes with highest degree centrality\n",
    "top_10 = dict(list(sorted_degree_centrality.items())[:10])\n",
    "plt.bar(top_10.keys(), top_10.values())\n",
    "plt.xlabel('Node')\n",
    "plt.ylabel('Degree Centrality')\n",
    "plt.title('Top 10 Nodes with Highest Degree Centrality')\n",
    "plt.xticks(rotation=90)\n",
    "plt.show()"
   ]
  },
  {
   "cell_type": "code",
   "execution_count": 40,
   "metadata": {},
   "outputs": [
    {
     "name": "stdout",
     "output_type": "stream",
     "text": [
      "The mean of degree centrality is: 0.00673355629877369\n",
      "The standard deviation of degree centrality is: 0.014976839408842734\n"
     ]
    }
   ],
   "source": [
    "# Calculate degree centralities for each node in the subgraph\n",
    "degree_centralities = nx.degree_centrality(subgraph)\n",
    "degree_values = list(degree_centralities.values())\n",
    "\n",
    "# Calculate mean and standard deviation\n",
    "mean = np.mean(degree_values)\n",
    "std = np.std(degree_values)\n",
    "\n",
    "print(\"The mean of degree centrality is:\", mean)\n",
    "print(\"The standard deviation of degree centrality is:\", std)\n"
   ]
  },
  {
   "cell_type": "code",
   "execution_count": 41,
   "metadata": {},
   "outputs": [
    {
     "data": {
      "image/png": "[encoded data removed]",
      "text/plain": [
       "<Figure size 640x480 with 1 Axes>"
      ]
     },
     "metadata": {},
     "output_type": "display_data"
    }
   ],
   "source": [
    "import matplotlib.pyplot as plt\n",
    "\n",
    "# Calculate the distribution of degree centralities\n",
    "hist, bins = np.histogram(degree_values, bins=50)\n",
    "width = 0.7 * (bins[1] - bins[0])\n",
    "center = (bins[:-1] + bins[1:]) / 2\n",
    "\n",
    "# Plot the distribution\n",
    "plt.bar(center, hist, align='center', width=width)\n",
    "plt.show()\n"
   ]
  },
  {
   "cell_type": "code",
   "execution_count": 42,
   "metadata": {},
   "outputs": [
    {
     "name": "stdout",
     "output_type": "stream",
     "text": [
      "The correlation between the centralities is:\n",
      "               degree  closeness  betweenness\n",
      "degree       1.000000   0.586769     0.909888\n",
      "closeness    0.586769   1.000000     0.361743\n",
      "betweenness  0.909888   0.361743     1.000000\n"
     ]
    }
   ],
   "source": [
    "import pandas as pd\n",
    "\n",
    "# Calculate other centrality measures, such as closeness centrality and betweenness centrality\n",
    "closeness_centralities = nx.closeness_centrality(subgraph)\n",
    "closeness_values = list(closeness_centralities.values())\n",
    "betweenness_centralities = nx.betweenness_centrality(subgraph)\n",
    "betweenness_values = list(betweenness_centralities.values())\n",
    "\n",
    "# Create a dataframe to store the centralities\n",
    "df = pd.DataFrame({'degree': degree_values, 'closeness': closeness_values, 'betweenness': betweenness_values})\n",
    "\n",
    "# Calculate the correlation between the centralities\n",
    "correlation = df.corr()\n",
    "\n",
    "print(\"The correlation between the centralities is:\")\n",
    "print(correlation)\n"
   ]
  },
  {
   "cell_type": "code",
   "execution_count": 43,
   "metadata": {},
   "outputs": [
    {
     "data": {
      "image/png": "[encoded data removed]",
      "text/plain": [
       "<Figure size 640x480 with 1 Axes>"
      ]
     },
     "metadata": {},
     "output_type": "display_data"
    }
   ],
   "source": [
    "import random\n",
    "\n",
    "# Store the degree centralities of each subgraph\n",
    "all_degree_centralities = []\n",
    "\n",
    "# Create and analyze 10 random subgraphs with 300 nodes each\n",
    "for i in range(10):\n",
    "    nodes = random.sample(list(G.nodes()), 300)\n",
    "    subgraph = G.subgraph(nodes)\n",
    "    degree_centralities = nx.degree_centrality(subgraph)\n",
    "    degree_values = list(degree_centralities.values())\n",
    "    all_degree_centralities.append(degree_values)\n",
    "\n",
    "# Compare the values of degree centralities between the subgraphs\n",
    "differences = []\n",
    "for i in range(10):\n",
    "    for j in range(i+1, 10):\n",
    "        difference = np.abs(np.array(all_degree_centralities[i]) - np.array(all_degree_centralities[j]))\n",
    "        differences.append(difference)\n",
    "\n",
    "# Plot the differences\n",
    "plt.hist(differences, bins=50, label=['difference'])\n",
    "plt.legend()\n",
    "plt.show()\n"
   ]
  },
  {
   "cell_type": "code",
   "execution_count": null,
   "metadata": {},
   "outputs": [],
   "source": [
    "import networkx as nx\n",
    "import random\n",
    "import statistics\n",
    "\n",
    "# Carica il grafo originale\n",
    "G = nx.read_edgelist(\"path/to/graph_file.txt\", nodetype=int)\n",
    "\n",
    "# Calcola la degree centrality per ogni nodo\n",
    "degree_centrality = nx.degree_centrality(G)\n",
    "\n",
    "# Crea 1000 sottografi casuali con nodi casuali\n",
    "subgraphs = []\n",
    "for i in range(1000):\n",
    "    random_nodes = random.sample(list(G.nodes()), k=20)\n",
    "    subgraphs.append(G.subgraph(random_nodes))\n",
    "\n",
    "# Calcola la degree centrality per ogni sottografo e salva i risultati\n",
    "all_degrees = []\n",
    "for subgraph in subgraphs:\n",
    "    subgraph_degrees = [degree_centrality[node] for node in subgraph.nodes()]\n",
    "    all_degrees.append(subgraph_degrees)\n",
    "    max_degree = max(subgraph_degrees)\n",
    "\n",
    "# Calcola la media, la varianza e il valore più alto di degree per ogni sottografo\n",
    "subgraph_means = [statistics.mean(subgraph_degrees) for subgraph_degrees in all_degrees]\n",
    "subgraph_variances = [statistics.variance(subgraph_degrees) for subgraph_degrees in all_degrees]\n",
    "max_degrees = [max(subgraph_degrees) for subgraph_degrees in all_degrees]\n",
    "\n",
    "# Calcola la media della media e la varianza totale\n",
    "mean_of_means = statistics.mean(subgraph_means)\n",
    "total_variance = sum(subgraph_variances)\n",
    "\n",
    "# Trova i 10 nodi con degree maggiore in assoluto\n",
    "top_10_nodes = sorted(degree_centrality.items(), key=lambda x: x[1], reverse=True)[:10]\n",
    "top_10_nodes = [node for node, degree in top_10_nodes]\n"
   ]
  },
  {
   "cell_type": "code",
   "execution_count": null,
   "metadata": {},
   "outputs": [
    {
     "name": "stderr",
     "output_type": "stream",
     "text": [
      "C:\\Users\\caros\\AppData\\Local\\Temp\\ipykernel_4948\\344366665.py:15: DeprecationWarning: Sampling from a set deprecated\n",
      "since Python 3.9 and will be removed in a subsequent version.\n",
      "  random_nodes = random.sample(G.nodes, 300)\n"
     ]
    }
   ],
   "source": [
    "import networkx as nx\n",
    "import random\n",
    "import statistics\n",
    "\n",
    "# Crea il grafo originale\n",
    "G = nx.Graph()\n",
    "G.add_edges_from(hero_df[[\"hero1\", \"hero2\"]].values)\n",
    "\n",
    "# Calcola la degree centrality per ogni nodo\n",
    "degree_centrality = nx.degree_centrality(G)\n",
    "\n",
    "# Crea 1000 sottografi casuali con nodi casuali\n",
    "subgraphs = []\n",
    "for i in range(1000):\n",
    "    random_nodes = random.sample(G.nodes, 300)\n",
    "    subgraphs.append(G.subgraph(random_nodes))\n",
    "\n",
    "# Calcola la degree centrality per ogni sottografo e salva i risultati\n",
    "all_degrees = []\n",
    "for subgraph in subgraphs:\n",
    "    subgraph_degrees = [degree_centrality[node] for node in subgraph.nodes()]\n",
    "    all_degrees.append(subgraph_degrees)\n",
    "    max_degree = max(subgraph_degrees)\n",
    "\n",
    "# Calcola la media, la varianza e il valore più alto di degree per ogni sottografo\n",
    "subgraph_means = [statistics.mean(subgraph_degrees) for subgraph_degrees in all_degrees]\n",
    "subgraph_variances = [statistics.variance(subgraph_degrees) for subgraph_degrees in all_degrees]\n",
    "max_degrees = [max(subgraph_degrees) for subgraph_degrees in all_degrees]\n",
    "\n",
    "# Calcola la media della media e la varianza totale\n",
    "mean_of_means = statistics.mean(subgraph_means)\n",
    "total_variance = sum(subgraph_variances)\n",
    "\n",
    "# Trova i 10 nodi con degree maggiore in assoluto\n",
    "top_10_nodes = sorted(degree_centrality.items(), key=lambda x: x[1], reverse=True)[:10]\n",
    "top_10_nodes = [node for node, degree in top_10_nodes]\n",
    "\n",
    "# Stampa i risultati\n",
    "print(\"Media della media dei degree:\", mean_of_means)\n",
    "print(\"Varianza totale dei degree:\", total_variance)\n",
    "print(\"10 nodi con degree maggiore in assoluto:\", top_10_nodes)\n"
   ]
  }
 ],
 "metadata": {
  "kernelspec": {
   "display_name": "DataScience",
   "language": "python",
   "name": "python3"
  },
  "language_info": {
   "codemirror_mode": {
    "name": "ipython",
    "version": 3
   },
   "file_extension": ".py",
   "mimetype": "text/x-python",
   "name": "python",
   "nbconvert_exporter": "python",
   "pygments_lexer": "ipython3",
   "version": "3.9.15 (main, Nov 24 2022, 14:39:17) [MSC v.1916 64 bit (AMD64)]"
  },
  "orig_nbformat": 4,
  "vscode": {
   "interpreter": {
    "hash": "e69159cacdb4fbd82388aeebaccb114ee46244fdb23461f4c1af85b236eb5dfd"
   }
  }
 },
 "nbformat": 4,
 "nbformat_minor": 2
}
