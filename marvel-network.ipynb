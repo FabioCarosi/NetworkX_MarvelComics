{
 "cells": [
  {
   "cell_type": "code",
   "execution_count": null,
   "metadata": {},
   "outputs": [],
   "source": [
    "import numpy as np\n",
    "import networkx as nx\n",
    "import matplotlib.pyplot as plt\n",
    "import matplotlib.colors as mcolors\n",
    "import random\n",
    "import seaborn as sns\n",
    "import pandas as pd"
   ]
  },
  {
   "cell_type": "code",
   "execution_count": null,
   "metadata": {},
   "outputs": [],
   "source": [
    "hero_df = pd.read_csv('hero-network.csv')\n",
    "edges_df = pd.read_csv('hero-comic.csv')\n",
    "nodes_df = pd.read_csv('nodes.csv')"
   ]
  },
  {
   "cell_type": "code",
   "execution_count": null,
   "metadata": {},
   "outputs": [],
   "source": [
    "# Deletes the '/' character at the end of the of each name and truncates the words to 20 characters\n",
    "hero_df['hero1'] = hero_df['hero1'].apply(lambda x: x.rstrip('/')[:20])\n",
    "hero_df['hero2'] = hero_df['hero2'].apply(lambda x: x.rstrip('/')[:20])\n",
    "edges_df['hero'] = edges_df['hero'].apply(lambda x: x.rstrip('/')[:20])\n",
    "nodes_df['node'] = nodes_df['node'].apply(lambda x: x.rstrip('/')[:20])\n",
    "\n",
    "#Deletes lines with a hero linked to itselfhero_df.drop(hero_df[hero_df['hero1'] == hero_df['hero2']].index, inplace = True)\n",
    "hero_df.drop(hero_df[hero_df['hero1'] == hero_df['hero2']].index, inplace = True)"
   ]
  },
  {
   "attachments": {},
   "cell_type": "markdown",
   "metadata": {},
   "source": [
    "## Hero-Comic"
   ]
  },
  {
   "attachments": {},
   "cell_type": "markdown",
   "metadata": {},
   "source": [
    "Takes the graph with hero-comic pairs. \n",
    "\n",
    "1. Number of nodes and edges\n",
    "2. Plot the graph with 'fruchterman_reingold_layout'\n",
    "3. Plot the graph with Degree Centrality and Betweenness Centrality\n",
    " "
   ]
  },
  {
   "cell_type": "code",
   "execution_count": null,
   "metadata": {},
   "outputs": [],
   "source": [
    "graph = nx.Graph()\n",
    "graph.add_edges_from(edges_df[[\"hero\", \"comic\"]].values)\n",
    "pos = nx.fruchterman_reingold_layout(graph)"
   ]
  },
  {
   "cell_type": "code",
   "execution_count": null,
   "metadata": {},
   "outputs": [],
   "source": [
    "print(\"NODES: \", len(graph.nodes))\n",
    "print(\"EDGES: \", len(graph.edges))"
   ]
  },
  {
   "cell_type": "code",
   "execution_count": null,
   "metadata": {},
   "outputs": [],
   "source": [
    "plt.figure(figsize=(20,12))\n",
    "nx.draw(graph, pos)\n",
    "plt.show()"
   ]
  },
  {
   "cell_type": "code",
   "execution_count": null,
   "metadata": {},
   "outputs": [],
   "source": [
    "deg_centrality = nx.degree_centrality(graph)\n",
    "\n",
    "cent = np.fromiter(deg_centrality.values(), float)\n",
    "sizes = cent / np.max(cent) * 200\n",
    "normalize = mcolors.Normalize(vmin=cent.min(), vmax=cent.max())\n",
    "colormap = plt.cm.viridis\n",
    "\n",
    "scalarmappaple = plt.cm.ScalarMappable(norm=normalize, cmap=colormap)\n",
    "scalarmappaple.set_array(cent)\n",
    "\n",
    "plt.colorbar(scalarmappaple)\n",
    "nx.draw(graph, pos, node_size=sizes, node_color=sizes, cmap=colormap)\n",
    "plt.show()"
   ]
  },
  {
   "cell_type": "code",
   "execution_count": null,
   "metadata": {},
   "outputs": [],
   "source": [
    "bet = nx.betweenness_centrality(graph)\n",
    "plt.figure(figsize=(15,10))\n",
    "sns.distplot(list(bet.values()), kde=False)"
   ]
  },
  {
   "cell_type": "code",
   "execution_count": null,
   "metadata": {},
   "outputs": [],
   "source": [
    "cent = np.fromiter(bet.values(), float)\n",
    "sizes = cent / np.max(cent) * 200\n",
    "normalize = mcolors.Normalize(vmin=cent.min(), vmax=cent.max())\n",
    "colormap = plt.cm.viridis\n",
    "\n",
    "scalarmappaple = plt.cm.ScalarMappable(norm=normalize, cmap=colormap)\n",
    "scalarmappaple.set_array(cent)\n",
    "\n",
    "plt.colorbar(scalarmappaple)\n",
    "nx.draw(graph, pos, node_size=sizes, node_color=sizes, cmap=colormap)\n",
    "plt.show()"
   ]
  },
  {
   "attachments": {},
   "cell_type": "markdown",
   "metadata": {},
   "source": [
    "### Connected components"
   ]
  },
  {
   "attachments": {},
   "cell_type": "markdown",
   "metadata": {},
   "source": [
    "5. The largest connected component is taken\n",
    "6. Prints the number of nodes and nodes and nodes of the largest connected component"
   ]
  },
  {
   "cell_type": "code",
   "execution_count": null,
   "metadata": {},
   "outputs": [],
   "source": [
    "components = list(nx.connected_components(graph))\n",
    "largest_component = max(components, key=len)\n",
    "H = graph.subgraph(largest_component)"
   ]
  },
  {
   "cell_type": "code",
   "execution_count": null,
   "metadata": {},
   "outputs": [],
   "source": [
    "print(\"NODES: \", len(H.nodes))\n",
    "print(\"EDGES: \", len(H.edges))"
   ]
  },
  {
   "attachments": {},
   "cell_type": "markdown",
   "metadata": {},
   "source": [
    "#### Reducing the number of nodes"
   ]
  },
  {
   "attachments": {},
   "cell_type": "markdown",
   "metadata": {},
   "source": [
    "I reduce the number of nodes as the graph is too large to perform certain analyses, 1000 nodes are taken"
   ]
  },
  {
   "cell_type": "code",
   "execution_count": null,
   "metadata": {},
   "outputs": [],
   "source": [
    "from collections import deque\n",
    "\n",
    "def connectedSubgraph(graph):\n",
    "    # Initialize an empty graph object\n",
    "    subgraph = nx.Graph()\n",
    "    # Add the first node in the input graph to the subgraph\n",
    "    subgraph.add_node(next(iter(graph)))\n",
    "    \n",
    "    # Create a queue and add the first node of the input graph to it\n",
    "    queue = deque([next(iter(graph))])\n",
    "    \n",
    "    # While the queue is not empty and the number of nodes in the subgraph is less than 1000\n",
    "    while queue and subgraph.number_of_nodes() < 1000:\n",
    "        # Remove the first node from the queue\n",
    "        node = queue.popleft()\n",
    "        \n",
    "        # Iterate through the adjacent nodes of the current node\n",
    "        for adjacent in graph[node]:\n",
    "            # If the adjacent node is not in the subgraph\n",
    "            if adjacent not in subgraph:\n",
    "                # Add the adjacent node to the subgraph\n",
    "                subgraph.add_node(adjacent)\n",
    "                # Add an edge between the current node and the adjacent node in the subgraph\n",
    "                subgraph.add_edge(node, adjacent)\n",
    "                # Add the adjacent node to the queue\n",
    "                queue.append(adjacent)\n",
    "  \n",
    "    # return the subgraph\n",
    "    return subgraph\n",
    "\n",
    "subgraph = connectedSubgraph(H)\n"
   ]
  },
  {
   "attachments": {},
   "cell_type": "markdown",
   "metadata": {},
   "source": [
    "The same analyses as above are performed by adding different layouts, calculation of the 10 densest nodes, and calculation of eccentricity, diameter, radius, periphery, and center values. "
   ]
  },
  {
   "cell_type": "code",
   "execution_count": null,
   "metadata": {},
   "outputs": [],
   "source": [
    "print(\"NODES: \", len(subgraph.nodes))\n",
    "print(\"EDGES: \", len(subgraph.edges))"
   ]
  },
  {
   "cell_type": "code",
   "execution_count": null,
   "metadata": {},
   "outputs": [],
   "source": [
    "posSpring = nx.spring_layout(subgraph)\n",
    "plt.figure(figsize=(20,12))\n",
    "nx.draw(subgraph, posSpring)\n",
    "plt.show()"
   ]
  },
  {
   "cell_type": "code",
   "execution_count": null,
   "metadata": {},
   "outputs": [],
   "source": [
    "posPlanar = nx.planar_layout(subgraph)\n",
    "plt.figure(figsize=(20,12))\n",
    "nx.draw(subgraph, posPlanar )\n",
    "plt.show()"
   ]
  },
  {
   "cell_type": "code",
   "execution_count": null,
   "metadata": {},
   "outputs": [],
   "source": [
    "posKamada = nx.kamada_kawai_layout(subgraph)\n",
    "plt.figure(figsize=(20,12))\n",
    "nx.draw(subgraph, posKamada)\n",
    "plt.show()"
   ]
  },
  {
   "cell_type": "code",
   "execution_count": null,
   "metadata": {},
   "outputs": [],
   "source": [
    "posSpiral = nx.spiral_layout(subgraph)\n",
    "plt.figure(figsize=(20,12))\n",
    "nx.draw(subgraph, posSpiral)\n",
    "plt.show()"
   ]
  },
  {
   "cell_type": "code",
   "execution_count": null,
   "metadata": {},
   "outputs": [],
   "source": [
    "deg_centrality = nx.degree_centrality(subgraph)\n",
    "\n",
    "cent = np.fromiter(deg_centrality.values(), float)\n",
    "sizes = cent / np.max(cent) * 200\n",
    "normalize = mcolors.Normalize(vmin=cent.min(), vmax=cent.max())\n",
    "colormap = plt.cm.viridis\n",
    "\n",
    "scalarmappaple = plt.cm.ScalarMappable(norm=normalize, cmap=colormap)\n",
    "scalarmappaple.set_array(cent)\n",
    "\n",
    "plt.colorbar(scalarmappaple)\n",
    "nx.draw(subgraph, posSpring, node_size=sizes, node_color=sizes, cmap=colormap)\n",
    "plt.show()"
   ]
  },
  {
   "cell_type": "code",
   "execution_count": null,
   "metadata": {},
   "outputs": [],
   "source": [
    "deg_centrality = nx.degree_centrality(subgraph)\n",
    "\n",
    "cent = np.fromiter(deg_centrality.values(), float)\n",
    "sizes = cent / np.max(cent) * 200\n",
    "normalize = mcolors.Normalize(vmin=cent.min(), vmax=cent.max())\n",
    "colormap = plt.cm.viridis\n",
    "\n",
    "scalarmappaple = plt.cm.ScalarMappable(norm=normalize, cmap=colormap)\n",
    "scalarmappaple.set_array(cent)\n",
    "\n",
    "plt.colorbar(scalarmappaple)\n",
    "nx.draw(subgraph, posKamada, node_size=sizes, node_color=sizes, cmap=colormap)\n",
    "plt.show()"
   ]
  },
  {
   "cell_type": "code",
   "execution_count": null,
   "metadata": {},
   "outputs": [],
   "source": [
    "bet = nx.betweenness_centrality(graph)\n",
    "plt.figure(figsize=(15,10))\n",
    "sns.distplot(list(bet.values()), kde=False)"
   ]
  },
  {
   "cell_type": "code",
   "execution_count": null,
   "metadata": {},
   "outputs": [],
   "source": [
    "cent = np.fromiter(bet.values(), float)\n",
    "sizes = cent / np.max(cent) * 200\n",
    "normalize = mcolors.Normalize(vmin=cent.min(), vmax=cent.max())\n",
    "colormap = plt.cm.viridis\n",
    "\n",
    "scalarmappaple = plt.cm.ScalarMappable(norm=normalize, cmap=colormap)\n",
    "scalarmappaple.set_array(cent)\n",
    "\n",
    "plt.colorbar(scalarmappaple)\n",
    "nx.draw(graph, pos, node_size=sizes, node_color=sizes, cmap=colormap)\n",
    "plt.show()"
   ]
  },
  {
   "cell_type": "code",
   "execution_count": null,
   "metadata": {},
   "outputs": [],
   "source": [
    "degrees = subgraph.degree()\n",
    "sorted_degrees = sorted(degrees, key=lambda x: x[1], reverse=True)\n",
    "\n",
    "print(\"I 10 nodi più densi sono:\")\n",
    "for node, degree in sorted_degrees[:10]:\n",
    "    print(f\"  {node}: grado {degree}\")"
   ]
  },
  {
   "cell_type": "code",
   "execution_count": null,
   "metadata": {},
   "outputs": [],
   "source": [
    "eccentricity = nx.eccentricity(subgraph)\n",
    "diameter = nx.diameter(subgraph)\n",
    "radius = nx.radius(subgraph)\n",
    "periphery = [node for node, ecc in eccentricity.items() if ecc == diameter]\n",
    "center = [node for node, ecc in eccentricity.items() if ecc == radius]\n",
    "\n",
    "print(\"ECCENTRICITY: \",len(eccentricity))\n",
    "print(\"DIAMETER: \",diameter)\n",
    "print(\"RADIUS: \",radius)\n",
    "print(\"PERIPHERY: \",len(periphery))\n",
    "print(\"CENTER: \",len(center))"
   ]
  },
  {
   "attachments": {},
   "cell_type": "markdown",
   "metadata": {},
   "source": [
    "## Hero-Hero Network"
   ]
  },
  {
   "attachments": {},
   "cell_type": "markdown",
   "metadata": {},
   "source": [
    "Same analysis as above by adding using the graph generated with the connections between heroes."
   ]
  },
  {
   "cell_type": "code",
   "execution_count": null,
   "metadata": {},
   "outputs": [],
   "source": [
    "graph = nx.Graph()\n",
    "graph.add_edges_from(hero_df[[\"hero1\", \"hero2\"]].values)\n",
    "\n",
    "\n",
    "print(\"NODES: \", len(graph.nodes)) \n",
    "print(\"EDGES: \", len(graph.edges))"
   ]
  },
  {
   "cell_type": "code",
   "execution_count": null,
   "metadata": {},
   "outputs": [],
   "source": [
    "components = list(nx.connected_components(graph))\n",
    "largest_component = max(components, key=len)\n",
    "H = graph.subgraph(largest_component)"
   ]
  },
  {
   "cell_type": "code",
   "execution_count": null,
   "metadata": {},
   "outputs": [],
   "source": [
    "pos = nx.spring_layout(graph)\n",
    "\n",
    "plt.figure(figsize=(20,12))\n",
    "nx.draw(graph, pos)\n",
    "plt.show()"
   ]
  },
  {
   "cell_type": "code",
   "execution_count": null,
   "metadata": {},
   "outputs": [],
   "source": [
    "pos = nx.spiral_layout(graph)\n",
    "\n",
    "plt.figure(figsize=(20,12))\n",
    "nx.draw(graph, pos)\n",
    "plt.show()"
   ]
  },
  {
   "cell_type": "code",
   "execution_count": null,
   "metadata": {},
   "outputs": [],
   "source": [
    "pos = nx.fruchterman_reingold_layout(graph)\n",
    "\n",
    "plt.figure(figsize=(20,12))\n",
    "nx.draw(graph, pos)\n",
    "plt.show()"
   ]
  },
  {
   "cell_type": "code",
   "execution_count": null,
   "metadata": {},
   "outputs": [],
   "source": [
    "deg_centrality = nx.degree_centrality(graph)\n",
    "\n",
    "cent = np.fromiter(deg_centrality.values(), float)\n",
    "sizes = cent / np.max(cent) * 200\n",
    "normalize = mcolors.Normalize(vmin=cent.min(), vmax=cent.max())\n",
    "colormap = plt.cm.viridis\n",
    "\n",
    "scalarmappaple = plt.cm.ScalarMappable(norm=normalize, cmap=colormap)\n",
    "scalarmappaple.set_array(cent)\n",
    "\n",
    "plt.colorbar(scalarmappaple)\n",
    "nx.draw(graph, pos, node_size=sizes, node_color=sizes, cmap=colormap) #LAYOUT SPRING\n",
    "plt.show()"
   ]
  },
  {
   "cell_type": "code",
   "execution_count": null,
   "metadata": {},
   "outputs": [],
   "source": [
    "bet = nx.betweenness_centrality(graph)\n",
    "plt.figure(figsize=(15,10))\n",
    "sns.distplot(list(bet.values()), kde=False)"
   ]
  },
  {
   "cell_type": "code",
   "execution_count": null,
   "metadata": {},
   "outputs": [],
   "source": [
    "cent = np.fromiter(bet.values(), float)\n",
    "sizes = cent / np.max(cent) * 200\n",
    "normalize = mcolors.Normalize(vmin=cent.min(), vmax=cent.max())\n",
    "colormap = plt.cm.viridis\n",
    "\n",
    "scalarmappaple = plt.cm.ScalarMappable(norm=normalize, cmap=colormap)\n",
    "scalarmappaple.set_array(cent)\n",
    "\n",
    "plt.colorbar(scalarmappaple)\n",
    "nx.draw(graph, pos, node_size=sizes, node_color=sizes, cmap=colormap)\n",
    "plt.show()"
   ]
  },
  {
   "attachments": {},
   "cell_type": "markdown",
   "metadata": {},
   "source": [
    "### Weighted Graph"
   ]
  },
  {
   "attachments": {},
   "cell_type": "markdown",
   "metadata": {},
   "source": [
    "Analysis is performed on the graph by adding weights. \n",
    "Degree assortativity coefficient is calculated."
   ]
  },
  {
   "cell_type": "code",
   "execution_count": null,
   "metadata": {},
   "outputs": [],
   "source": [
    "# Create a new dataframe 'weights' by grouping the rows of 'hero_df' by columns and counting the size of each\n",
    "# i.e., the number of appearances together \n",
    "weights = hero_df.groupby(hero_df.columns.tolist()).size().reset_index().rename(columns={0: 'weight'})\n",
    "\n",
    "# Group the data by hero1 and hero2 and sum the total weight \n",
    "weights[['hero1','hero2']] = pd.DataFrame(np.sort(weights[['hero1', 'hero2']].values, axis=1))\n",
    "hero_weighted = weights.groupby(['hero1', 'hero2']).weight.sum().reset_index()\n",
    "\n",
    "# Calculate the inverse weight\n",
    "hero_weighted['weight'] = round(1/hero_weighted['weight'],1)\n",
    "\n",
    "# Create a multi graph from the hero_weighted dataframe\n",
    "graphWeight = nx.from_pandas_edgelist(hero_weighted,'hero1','hero2', edge_attr='weight', create_using=nx.MultiGraph())\n"
   ]
  },
  {
   "cell_type": "code",
   "execution_count": null,
   "metadata": {},
   "outputs": [],
   "source": [
    "components = list(nx.connected_components(graphWeight))\n",
    "largest_component = max(components, key=len)\n",
    "graph_weighted = graphWeight.subgraph(largest_component)"
   ]
  },
  {
   "cell_type": "code",
   "execution_count": null,
   "metadata": {},
   "outputs": [],
   "source": [
    "springWeight = nx.spring_layout(H)\n",
    "plt.figure(figsize=(20,12))\n",
    "nx.draw(graph_weighted, springWeight )\n",
    "plt.show()"
   ]
  },
  {
   "cell_type": "code",
   "execution_count": null,
   "metadata": {},
   "outputs": [],
   "source": [
    "kamadaWeight = nx.kamada_kawai_layout(H)\n",
    "plt.figure(figsize=(20,12))\n",
    "nx.draw(graph_weighted, kamadaWeight )\n",
    "plt.show()"
   ]
  },
  {
   "cell_type": "code",
   "execution_count": null,
   "metadata": {},
   "outputs": [],
   "source": [
    "spiralWeight = nx.spiral_layout(H)\n",
    "plt.figure(figsize=(20,12))\n",
    "nx.draw(graph_weighted, spiralWeight )\n",
    "plt.show()"
   ]
  },
  {
   "cell_type": "code",
   "execution_count": null,
   "metadata": {},
   "outputs": [],
   "source": [
    "deg_centrality = nx.degree_centrality(H)\n",
    "\n",
    "cent = np.fromiter(deg_centrality.values(), float)\n",
    "sizes = cent / np.max(cent) * 200\n",
    "normalize = mcolors.Normalize(vmin=cent.min(), vmax=cent.max())\n",
    "colormap = plt.cm.viridis\n",
    "\n",
    "scalarmappaple = plt.cm.ScalarMappable(norm=normalize, cmap=colormap)\n",
    "scalarmappaple.set_array(cent)\n",
    "\n",
    "plt.colorbar(scalarmappaple)\n",
    "nx.draw(graph_weighted, kamadaWeight, node_size=sizes, node_color=sizes, cmap=colormap)\n",
    "plt.show()"
   ]
  },
  {
   "cell_type": "code",
   "execution_count": null,
   "metadata": {},
   "outputs": [],
   "source": [
    "betWeight = nx.betweenness_centrality(H)\n",
    "plt.figure(figsize=(15,10))\n",
    "sns.distplot(list(bet.values()), kde=False)"
   ]
  },
  {
   "cell_type": "code",
   "execution_count": null,
   "metadata": {},
   "outputs": [],
   "source": [
    "\n",
    "cent = np.fromiter(betWeight.values(), float)\n",
    "sizes = cent / np.max(cent) * 200\n",
    "normalize = mcolors.Normalize(vmin=cent.min(), vmax=cent.max())\n",
    "colormap = plt.cm.viridis\n",
    "\n",
    "scalarmappaple = plt.cm.ScalarMappable(norm=normalize, cmap=colormap)\n",
    "scalarmappaple.set_array(cent)\n",
    "\n",
    "plt.colorbar(scalarmappaple)\n",
    "nx.draw(graph_weighted, kamadaWeight, node_size=sizes, node_color=sizes, cmap=colormap)\n",
    "plt.show()"
   ]
  },
  {
   "cell_type": "code",
   "execution_count": 1,
   "metadata": {},
   "outputs": [
    {
     "name": "stderr",
     "output_type": "stream",
     "text": [
      "\n",
      "KeyboardInterrupt\n",
      "\n"
     ]
    }
   ],
   "source": [
    "eccentricity = nx.eccentricity(graph_weighted)\n",
    "diameter = nx.diameter(graph_weighted)\n",
    "radius = nx.radius(graph_weighted)\n",
    "periphery = [node for node, ecc in eccentricity.items() if ecc == diameter]\n",
    "center = [node for node, ecc in eccentricity.items() if ecc == radius]\n",
    "assortativity = nx.degree_assortativity_coefficient(graph_weighted)"
   ]
  },
  {
   "cell_type": "code",
   "execution_count": null,
   "metadata": {},
   "outputs": [],
   "source": [
    "n_nodes = graph_weighted.number_of_nodes()\n",
    "n_edges = graph_weighted.number_of_edges()\n",
    "print(\"NODES: \" + n_nodes)\n",
    "print(\"EDGES: \" + n_edges)"
   ]
  },
  {
   "cell_type": "code",
   "execution_count": null,
   "metadata": {},
   "outputs": [],
   "source": [
    "density = 2*n_edges/(n_nodes*(n_nodes-1))\n",
    "print(\"DENSITY: \" + density)"
   ]
  },
  {
   "cell_type": "code",
   "execution_count": null,
   "metadata": {},
   "outputs": [],
   "source": [
    "print(\"ASSORTATIVITY: \" + assortativity)\n",
    "print(\"RADIUS: \" + radius)\n",
    "print(\"DIAMETER: \" + diameter)\n",
    "print(\"NODES IN PERIPHERY: \" + len(periphery))\n",
    "print(\"NODES IN CENTER: \" + len(center))"
   ]
  },
  {
   "attachments": {},
   "cell_type": "markdown",
   "metadata": {},
   "source": [
    "## Ego Network - Iron Man"
   ]
  },
  {
   "attachments": {},
   "cell_type": "markdown",
   "metadata": {},
   "source": [
    "Let's create an Ego Network on the character of Iron Man. On this Ego Network we go to calculate eigenvector_centrality, closeness and pagerank."
   ]
  },
  {
   "cell_type": "code",
   "execution_count": null,
   "metadata": {},
   "outputs": [],
   "source": [
    "ego_graph = nx.ego_graph(graph, 'IRON MAN/TONY STARK ')\n",
    "ego_graph = nx.Graph(ego_graph)"
   ]
  },
  {
   "cell_type": "code",
   "execution_count": null,
   "metadata": {},
   "outputs": [],
   "source": [
    "print(\"NUMERO DI NODI EGO NETWORK IRON MAN:\", ego_graph.number_of_nodes())\n",
    "print(\"NUMERO DI ARCHI EGO NETWORK IRON MAN:\", ego_graph.number_of_edges())\n",
    "print(\"GRAFO PESATO: \", nx.is_weighted(ego_graph))  # Output: True"
   ]
  },
  {
   "cell_type": "code",
   "execution_count": null,
   "metadata": {},
   "outputs": [],
   "source": [
    "ego_pos = nx.spring_layout(ego_graph)\n",
    "plt.figure(figsize=(20, 20))\n",
    "nx.draw(ego_graph, ego_pos)\n",
    "plt.show()"
   ]
  },
  {
   "cell_type": "code",
   "execution_count": null,
   "metadata": {},
   "outputs": [],
   "source": [
    "closeness_centrality = nx.closeness_centrality(ego_graph)\n",
    "\n",
    "plt.figure(figsize=(20,15))\n",
    "cent = np.fromiter(closeness_centrality.values(), float)\n",
    "sizes = cent / np.max(cent) * 200\n",
    "normalize = mcolors.Normalize(vmin=cent.min(), vmax=cent.max())\n",
    "colormap = plt.cm.viridis\n",
    "\n",
    "scalarmappaple = plt.cm.ScalarMappable(norm=normalize, cmap=colormap)\n",
    "scalarmappaple.set_array(cent)\n",
    "plt.colorbar(scalarmappaple)\n",
    "\n",
    "nx.draw(ego_graph, ego_pos, node_size=25, node_color=sizes, cmap=colormap) #LAYOUT SPRING\n",
    "plt.show()"
   ]
  },
  {
   "cell_type": "code",
   "execution_count": null,
   "metadata": {},
   "outputs": [],
   "source": [
    "eigenvector_centrality = nx.eigenvector_centrality(ego_graph)\n",
    "\n",
    "plt.figure(figsize=(20,15))\n",
    "cent = np.fromiter(eigenvector_centrality.values(), float)\n",
    "sizes = cent / np.max(cent) * 200\n",
    "normalize = mcolors.Normalize(vmin=cent.min(), vmax=cent.max())\n",
    "colormap = plt.cm.viridis\n",
    "\n",
    "scalarmappaple = plt.cm.ScalarMappable(norm=normalize, cmap=colormap)\n",
    "scalarmappaple.set_array(cent)\n",
    "plt.colorbar(scalarmappaple)\n",
    "\n",
    "nx.draw(ego_graph, ego_pos, node_size=25, node_color=sizes, cmap=colormap) #LAYOUT SPRING\n",
    "plt.show()"
   ]
  },
  {
   "cell_type": "code",
   "execution_count": null,
   "metadata": {},
   "outputs": [],
   "source": [
    "pagerank = nx.pagerank(ego_graph)\n",
    "\n",
    "plt.figure(figsize=(20,15))\n",
    "cent = np.fromiter(pagerank.values(), float)\n",
    "sizes = cent / np.max(cent) * 200\n",
    "normalize = mcolors.Normalize(vmin=cent.min(), vmax=cent.max())\n",
    "colormap = plt.cm.viridis\n",
    "\n",
    "scalarmappaple = plt.cm.ScalarMappable(norm=normalize, cmap=colormap)\n",
    "scalarmappaple.set_array(cent)\n",
    "plt.colorbar(scalarmappaple)\n",
    "\n",
    "nx.draw(ego_graph, ego_pos, node_size=25, node_color=sizes, cmap=colormap) #LAYOUT SPRING\n",
    "plt.show()"
   ]
  },
  {
   "attachments": {},
   "cell_type": "markdown",
   "metadata": {},
   "source": [
    "### Communities\n"
   ]
  },
  {
   "attachments": {},
   "cell_type": "markdown",
   "metadata": {},
   "source": [
    "Analysis on network partitions and creation of a micro-network with only the best edges."
   ]
  },
  {
   "cell_type": "code",
   "execution_count": null,
   "metadata": {},
   "outputs": [],
   "source": [
    "partition = community_louvain.best_partition(ego_graph)  # compute communities\n",
    "\n",
    "plt.figure(figsize=(20,20)) \n",
    "plt.axis('off')\n",
    "nx.draw_networkx_nodes(ego_graph, ego_pos, node_size=60, cmap=plt.cm.RdYlBu, node_color=list(partition.values()))\n",
    "nx.draw_networkx_edges(ego_graph, ego_pos, alpha=0.3)\n",
    "plt.show(ego_graph)"
   ]
  },
  {
   "cell_type": "code",
   "execution_count": null,
   "metadata": {},
   "outputs": [],
   "source": [
    "from scipy.cluster.hierarchy import linkage, dendrogram\n",
    "\n",
    "community_count = max(partition.values()) +1\n",
    "\n",
    "community_similarity = np.zeros((community_count, community_count))\n",
    "for node1, com1 in partition.items():\n",
    "    for node2, com2 in partition.items():\n",
    "        if com1 == com2:\n",
    "            continue\n",
    "        if ego_graph.has_edge(node1, node2):\n",
    "            community_similarity[com1][com2] += 1\n",
    "\n",
    "# perform linkage clustering on the similarity matrix\n",
    "linkage_matrix = linkage(community_similarity, method='ward')\n",
    "\n",
    "# plot dendrogram\n",
    "plt.figure(figsize=(20,10))\n",
    "dendrogram(linkage_matrix, labels=[f\"Community {i}\" for i in range(community_count)])\n",
    "plt.show()"
   ]
  },
  {
   "cell_type": "code",
   "execution_count": null,
   "metadata": {},
   "outputs": [],
   "source": [
    "weight_threshold = 0.01\n",
    "# Itera on graph nodes\n",
    "for node in list(ego_graph.nodes()):\n",
    "  # Itera non node neighbors\n",
    "  for neighbor in list(ego_graph.neighbors(node)):\n",
    "    # If the weight of the edge is above the threshold, remove the node and edge\n",
    "    if ego_graph[node][neighbor][\"weight\"] > weight_threshold:\n",
    "      ego_graph.remove_edge(node, neighbor)\n",
    "\n",
    "for node in list(ego_graph.nodes()):\n",
    "  # If the node has no neighbors, remove it\n",
    "  if len(list(ego_graph.neighbors(node))) ==0:\n",
    "    ego_graph.remove_node(node)\n",
    "\n",
    "components = list(nx.connected_components(ego_graph))\n",
    "largest_component = max(components, key=len)\n",
    "ego_graph = ego_graph.subgraph(largest_component)\n",
    "\n",
    "print(\"NODES:\", ego_graph.number_of_nodes())\n",
    "print(\"EDGES:\", ego_graph.number_of_edges())\n",
    "print(\"WEIGHTED:\" + nx.is_weighted(graph))  # Output: True"
   ]
  },
  {
   "cell_type": "code",
   "execution_count": null,
   "metadata": {},
   "outputs": [],
   "source": [
    "ego_pos = nx.spring_layout(ego_graph)\n",
    "plt.figure(figsize=(20, 20))\n",
    "nx.draw(ego_graph, ego_pos, node_color= '#ff0000', node_size = 125, with_labels = True)\n",
    "plt.show()"
   ]
  }
 ],
 "metadata": {
  "kernelspec": {
   "display_name": "base",
   "language": "python",
   "name": "python3"
  },
  "language_info": {
   "codemirror_mode": {
    "name": "ipython",
    "version": 3
   },
   "file_extension": ".py",
   "mimetype": "text/x-python",
   "name": "python",
   "nbconvert_exporter": "python",
   "pygments_lexer": "ipython3",
   "version": "3.9.12 (main, Apr  4 2022, 05:22:27) [MSC v.1916 64 bit (AMD64)]"
  },
  "orig_nbformat": 4,
  "vscode": {
   "interpreter": {
    "hash": "11ab5997924f47854ff476aa00e73f2a4302ba75aaacb065f5d535fd175fda35"
   }
  }
 },
 "nbformat": 4,
 "nbformat_minor": 2
}
