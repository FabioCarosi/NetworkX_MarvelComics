{
 "cells": [
  {
   "cell_type": "code",
   "execution_count": 1,
   "metadata": {},
   "outputs": [],
   "source": [
    "import numpy as np\n",
    "import networkx as nx\n",
    "import matplotlib.pyplot as plt\n",
    "import matplotlib.colors as mcolors\n",
    "import random\n",
    "import seaborn as sns\n",
    "import pandas as pd"
   ]
  },
  {
   "cell_type": "code",
   "execution_count": 2,
   "metadata": {},
   "outputs": [],
   "source": [
    "hero_df = pd.read_csv('hero-network.csv')\n",
    "edges_df = pd.read_csv('hero-comic.csv')\n",
    "nodes_df = pd.read_csv('nodes.csv')"
   ]
  },
  {
   "cell_type": "code",
   "execution_count": 3,
   "metadata": {},
   "outputs": [],
   "source": [
    "# Deletes the '/' character at the end of the of each name and truncates the words to 20 characters\n",
    "hero_df['hero1'] = hero_df['hero1'].apply(lambda x: x.rstrip('/')[:20])\n",
    "hero_df['hero2'] = hero_df['hero2'].apply(lambda x: x.rstrip('/')[:20])\n",
    "edges_df['hero'] = edges_df['hero'].apply(lambda x: x.rstrip('/')[:20])\n",
    "nodes_df['node'] = nodes_df['node'].apply(lambda x: x.rstrip('/')[:20])\n",
    "\n",
    "#Deletes lines with a hero linked to itselfhero_df.drop(hero_df[hero_df['hero1'] == hero_df['hero2']].index, inplace = True)\n",
    "hero_df.drop(hero_df[hero_df['hero1'] == hero_df['hero2']].index, inplace = True)"
   ]
  },
  {
   "attachments": {},
   "cell_type": "markdown",
   "metadata": {},
   "source": [
    "## Hero-Comic"
   ]
  },
  {
   "attachments": {},
   "cell_type": "markdown",
   "metadata": {},
   "source": [
    "Takes the graph with hero-comic pairs. \n",
    "\n",
    "1. Number of nodes and edges\n",
    "2. Plot the graph with 'fruchterman_reingold_layout'\n",
    "3. Plot the graph with Degree Centrality and Betweenness Centrality\n",
    " "
   ]
  },
  {
   "cell_type": "code",
   "execution_count": 5,
   "metadata": {},
   "outputs": [],
   "source": [
    "graph = nx.Graph()\n",
    "graph.add_edges_from(edges_df[[\"hero\", \"comic\"]].values)"
   ]
  },
  {
   "cell_type": "code",
   "execution_count": null,
   "metadata": {},
   "outputs": [],
   "source": [
    "pos = nx.fruchterman_reingold_layout(graph)"
   ]
  },
  {
   "cell_type": "code",
   "execution_count": null,
   "metadata": {},
   "outputs": [],
   "source": [
    "print(\"NODES: \", len(graph.nodes))\n",
    "print(\"EDGES: \", len(graph.edges))"
   ]
  },
  {
   "cell_type": "code",
   "execution_count": null,
   "metadata": {},
   "outputs": [],
   "source": [
    "plt.figure(figsize=(20,12))\n",
    "nx.draw(graph, pos)\n",
    "plt.show()"
   ]
  },
  {
   "cell_type": "code",
   "execution_count": null,
   "metadata": {},
   "outputs": [],
   "source": [
    "deg_centrality = nx.degree_centrality(graph)\n",
    "\n",
    "cent = np.fromiter(deg_centrality.values(), float)\n",
    "sizes = cent / np.max(cent) * 200\n",
    "normalize = mcolors.Normalize(vmin=cent.min(), vmax=cent.max())\n",
    "colormap = plt.cm.viridis\n",
    "\n",
    "scalarmappaple = plt.cm.ScalarMappable(norm=normalize, cmap=colormap)\n",
    "scalarmappaple.set_array(cent)\n",
    "\n",
    "plt.colorbar(scalarmappaple)\n",
    "nx.draw(graph, pos, node_size=sizes, node_color=sizes, cmap=colormap)\n",
    "plt.show()"
   ]
  },
  {
   "cell_type": "code",
   "execution_count": null,
   "metadata": {},
   "outputs": [],
   "source": [
    "bet = nx.betweenness_centrality(graph)\n",
    "plt.figure(figsize=(15,10))\n",
    "sns.distplot(list(bet.values()), kde=False)"
   ]
  },
  {
   "cell_type": "code",
   "execution_count": null,
   "metadata": {},
   "outputs": [],
   "source": [
    "cent = np.fromiter(bet.values(), float)\n",
    "sizes = cent / np.max(cent) * 200\n",
    "normalize = mcolors.Normalize(vmin=cent.min(), vmax=cent.max())\n",
    "colormap = plt.cm.viridis\n",
    "\n",
    "scalarmappaple = plt.cm.ScalarMappable(norm=normalize, cmap=colormap)\n",
    "scalarmappaple.set_array(cent)\n",
    "\n",
    "plt.colorbar(scalarmappaple)\n",
    "nx.draw(graph, pos, node_size=sizes, node_color=sizes, cmap=colormap)\n",
    "plt.show()"
   ]
  },
  {
   "attachments": {},
   "cell_type": "markdown",
   "metadata": {},
   "source": [
    "### Connected components"
   ]
  },
  {
   "attachments": {},
   "cell_type": "markdown",
   "metadata": {},
   "source": [
    "5. The largest connected component is taken\n",
    "6. Prints the number of nodes and nodes and nodes of the largest connected component"
   ]
  },
  {
   "cell_type": "code",
   "execution_count": null,
   "metadata": {},
   "outputs": [],
   "source": [
    "components = list(nx.connected_components(graph))\n",
    "largest_component = max(components, key=len)\n",
    "H = graph.subgraph(largest_component)"
   ]
  },
  {
   "cell_type": "code",
   "execution_count": null,
   "metadata": {},
   "outputs": [],
   "source": [
    "print(\"NODES: \", len(H.nodes))\n",
    "print(\"EDGES: \", len(H.edges))"
   ]
  },
  {
   "attachments": {},
   "cell_type": "markdown",
   "metadata": {},
   "source": [
    "#### Reducing the number of nodes"
   ]
  },
  {
   "attachments": {},
   "cell_type": "markdown",
   "metadata": {},
   "source": [
    "I reduce the number of nodes as the graph is too large to perform certain analyses, 1000 nodes are taken"
   ]
  },
  {
   "cell_type": "code",
   "execution_count": null,
   "metadata": {},
   "outputs": [],
   "source": [
    "from collections import deque\n",
    "\n",
    "def connectedSubgraph(graph):\n",
    "    # Initialize an empty graph object\n",
    "    subgraph = nx.Graph()\n",
    "    # Add the first node in the input graph to the subgraph\n",
    "    subgraph.add_node(next(iter(graph)))\n",
    "    \n",
    "    # Create a queue and add the first node of the input graph to it\n",
    "    queue = deque([next(iter(graph))])\n",
    "    \n",
    "    # While the queue is not empty and the number of nodes in the subgraph is less than 1000\n",
    "    while queue and subgraph.number_of_nodes() < 1000:\n",
    "        # Remove the first node from the queue\n",
    "        node = queue.popleft()\n",
    "        \n",
    "        # Iterate through the adjacent nodes of the current node\n",
    "        for adjacent in graph[node]:\n",
    "            # If the adjacent node is not in the subgraph\n",
    "            if adjacent not in subgraph:\n",
    "                # Add the adjacent node to the subgraph\n",
    "                subgraph.add_node(adjacent)\n",
    "                # Add an edge between the current node and the adjacent node in the subgraph\n",
    "                subgraph.add_edge(node, adjacent)\n",
    "                # Add the adjacent node to the queue\n",
    "                queue.append(adjacent)\n",
    "  \n",
    "    # return the subgraph\n",
    "    return subgraph\n",
    "\n",
    "subgraph = connectedSubgraph(H)\n"
   ]
  },
  {
   "attachments": {},
   "cell_type": "markdown",
   "metadata": {},
   "source": [
    "The same analyses as above are performed by adding different layouts, calculation of the 10 densest nodes, and calculation of eccentricity, diameter, radius, periphery, and center values. "
   ]
  },
  {
   "cell_type": "code",
   "execution_count": null,
   "metadata": {},
   "outputs": [],
   "source": [
    "print(\"NODES: \", len(subgraph.nodes))\n",
    "print(\"EDGES: \", len(subgraph.edges))"
   ]
  },
  {
   "cell_type": "code",
   "execution_count": null,
   "metadata": {},
   "outputs": [],
   "source": [
    "posSpring = nx.spring_layout(subgraph)\n",
    "plt.figure(figsize=(20,12))\n",
    "nx.draw(subgraph, posSpring)\n",
    "plt.show()"
   ]
  },
  {
   "cell_type": "code",
   "execution_count": null,
   "metadata": {},
   "outputs": [],
   "source": [
    "posPlanar = nx.planar_layout(subgraph)\n",
    "plt.figure(figsize=(20,12))\n",
    "nx.draw(subgraph, posPlanar )\n",
    "plt.show()"
   ]
  },
  {
   "cell_type": "code",
   "execution_count": null,
   "metadata": {},
   "outputs": [],
   "source": [
    "posKamada = nx.kamada_kawai_layout(subgraph)\n",
    "plt.figure(figsize=(20,12))\n",
    "nx.draw(subgraph, posKamada)\n",
    "plt.show()"
   ]
  },
  {
   "cell_type": "code",
   "execution_count": null,
   "metadata": {},
   "outputs": [],
   "source": [
    "posSpiral = nx.spiral_layout(subgraph)\n",
    "plt.figure(figsize=(20,12))\n",
    "nx.draw(subgraph, posSpiral)\n",
    "plt.show()"
   ]
  },
  {
   "cell_type": "code",
   "execution_count": null,
   "metadata": {},
   "outputs": [],
   "source": [
    "deg_centrality = nx.degree_centrality(subgraph)\n",
    "\n",
    "cent = np.fromiter(deg_centrality.values(), float)\n",
    "sizes = cent / np.max(cent) * 200\n",
    "normalize = mcolors.Normalize(vmin=cent.min(), vmax=cent.max())\n",
    "colormap = plt.cm.viridis\n",
    "\n",
    "scalarmappaple = plt.cm.ScalarMappable(norm=normalize, cmap=colormap)\n",
    "scalarmappaple.set_array(cent)\n",
    "\n",
    "plt.colorbar(scalarmappaple)\n",
    "nx.draw(subgraph, posSpring, node_size=sizes, node_color=sizes, cmap=colormap)\n",
    "plt.show()"
   ]
  },
  {
   "cell_type": "code",
   "execution_count": null,
   "metadata": {},
   "outputs": [],
   "source": [
    "deg_centrality = nx.degree_centrality(subgraph)\n",
    "\n",
    "cent = np.fromiter(deg_centrality.values(), float)\n",
    "sizes = cent / np.max(cent) * 200\n",
    "normalize = mcolors.Normalize(vmin=cent.min(), vmax=cent.max())\n",
    "colormap = plt.cm.viridis\n",
    "\n",
    "scalarmappaple = plt.cm.ScalarMappable(norm=normalize, cmap=colormap)\n",
    "scalarmappaple.set_array(cent)\n",
    "\n",
    "plt.colorbar(scalarmappaple)\n",
    "nx.draw(subgraph, posKamada, node_size=sizes, node_color=sizes, cmap=colormap)\n",
    "plt.show()"
   ]
  },
  {
   "cell_type": "code",
   "execution_count": null,
   "metadata": {},
   "outputs": [],
   "source": [
    "bet = nx.betweenness_centrality(graph)\n",
    "plt.figure(figsize=(15,10))\n",
    "sns.distplot(list(bet.values()), kde=False)"
   ]
  },
  {
   "cell_type": "code",
   "execution_count": null,
   "metadata": {},
   "outputs": [],
   "source": [
    "cent = np.fromiter(bet.values(), float)\n",
    "sizes = cent / np.max(cent) * 200\n",
    "normalize = mcolors.Normalize(vmin=cent.min(), vmax=cent.max())\n",
    "colormap = plt.cm.viridis\n",
    "\n",
    "scalarmappaple = plt.cm.ScalarMappable(norm=normalize, cmap=colormap)\n",
    "scalarmappaple.set_array(cent)\n",
    "\n",
    "plt.colorbar(scalarmappaple)\n",
    "nx.draw(graph, pos, node_size=sizes, node_color=sizes, cmap=colormap)\n",
    "plt.show()"
   ]
  },
  {
   "cell_type": "code",
   "execution_count": null,
   "metadata": {},
   "outputs": [],
   "source": [
    "degrees = subgraph.degree()\n",
    "sorted_degrees = sorted(degrees, key=lambda x: x[1], reverse=True)\n",
    "\n",
    "print(\"I 10 nodi più densi sono:\")\n",
    "for node, degree in sorted_degrees[:10]:\n",
    "    print(f\"  {node}: grado {degree}\")"
   ]
  },
  {
   "cell_type": "code",
   "execution_count": null,
   "metadata": {},
   "outputs": [],
   "source": [
    "eccentricity = nx.eccentricity(subgraph)\n",
    "diameter = nx.diameter(subgraph)\n",
    "radius = nx.radius(subgraph)\n",
    "periphery = [node for node, ecc in eccentricity.items() if ecc == diameter]\n",
    "center = [node for node, ecc in eccentricity.items() if ecc == radius]\n",
    "\n",
    "print(\"ECCENTRICITY: \",len(eccentricity))\n",
    "print(\"DIAMETER: \",diameter)\n",
    "print(\"RADIUS: \",radius)\n",
    "print(\"PERIPHERY: \",len(periphery))\n",
    "print(\"CENTER: \",len(center))"
   ]
  },
  {
   "attachments": {},
   "cell_type": "markdown",
   "metadata": {},
   "source": [
    "## Hero-Hero Network"
   ]
  },
  {
   "attachments": {},
   "cell_type": "markdown",
   "metadata": {},
   "source": [
    "Same analysis as above by adding using the graph generated with the connections between heroes."
   ]
  },
  {
   "cell_type": "code",
   "execution_count": 6,
   "metadata": {},
   "outputs": [
    {
     "name": "stdout",
     "output_type": "stream",
     "text": [
      "NODES:  6426\n",
      "EDGES:  167207\n"
     ]
    }
   ],
   "source": [
    "graph = nx.Graph()\n",
    "graph.add_edges_from(hero_df[[\"hero1\", \"hero2\"]].values)\n",
    "\n",
    "\n",
    "print(\"NODES: \", len(graph.nodes)) \n",
    "print(\"EDGES: \", len(graph.edges))"
   ]
  },
  {
   "cell_type": "code",
   "execution_count": null,
   "metadata": {},
   "outputs": [],
   "source": [
    "components = list(nx.connected_components(graph))\n",
    "largest_component = max(components, key=len)\n",
    "H = graph.subgraph(largest_component)"
   ]
  },
  {
   "cell_type": "code",
   "execution_count": null,
   "metadata": {},
   "outputs": [],
   "source": [
    "pos = nx.spring_layout(graph)\n",
    "\n",
    "plt.figure(figsize=(20,12))\n",
    "nx.draw(graph, pos)\n",
    "plt.show()"
   ]
  },
  {
   "cell_type": "code",
   "execution_count": null,
   "metadata": {},
   "outputs": [],
   "source": [
    "pos = nx.spiral_layout(graph)\n",
    "\n",
    "plt.figure(figsize=(20,12))\n",
    "nx.draw(graph, pos)\n",
    "plt.show()"
   ]
  },
  {
   "cell_type": "code",
   "execution_count": null,
   "metadata": {},
   "outputs": [],
   "source": [
    "pos = nx.fruchterman_reingold_layout(graph)\n",
    "\n",
    "plt.figure(figsize=(20,12))\n",
    "nx.draw(graph, pos)\n",
    "plt.show()"
   ]
  },
  {
   "cell_type": "code",
   "execution_count": null,
   "metadata": {},
   "outputs": [],
   "source": [
    "deg_centrality = nx.degree_centrality(graph)\n",
    "\n",
    "cent = np.fromiter(deg_centrality.values(), float)\n",
    "sizes = cent / np.max(cent) * 200\n",
    "normalize = mcolors.Normalize(vmin=cent.min(), vmax=cent.max())\n",
    "colormap = plt.cm.viridis\n",
    "\n",
    "scalarmappaple = plt.cm.ScalarMappable(norm=normalize, cmap=colormap)\n",
    "scalarmappaple.set_array(cent)\n",
    "\n",
    "plt.colorbar(scalarmappaple)\n",
    "nx.draw(graph, pos, node_size=sizes, node_color=sizes, cmap=colormap) #LAYOUT SPRING\n",
    "plt.show()"
   ]
  },
  {
   "cell_type": "code",
   "execution_count": null,
   "metadata": {},
   "outputs": [],
   "source": [
    "bet = nx.betweenness_centrality(graph)\n",
    "plt.figure(figsize=(15,10))\n",
    "sns.distplot(list(bet.values()), kde=False)"
   ]
  },
  {
   "cell_type": "code",
   "execution_count": null,
   "metadata": {},
   "outputs": [],
   "source": [
    "cent = np.fromiter(bet.values(), float)\n",
    "sizes = cent / np.max(cent) * 200\n",
    "normalize = mcolors.Normalize(vmin=cent.min(), vmax=cent.max())\n",
    "colormap = plt.cm.viridis\n",
    "\n",
    "scalarmappaple = plt.cm.ScalarMappable(norm=normalize, cmap=colormap)\n",
    "scalarmappaple.set_array(cent)\n",
    "\n",
    "plt.colorbar(scalarmappaple)\n",
    "nx.draw(graph, pos, node_size=sizes, node_color=sizes, cmap=colormap)\n",
    "plt.show()"
   ]
  },
  {
   "attachments": {},
   "cell_type": "markdown",
   "metadata": {},
   "source": [
    "### Weighted Graph"
   ]
  },
  {
   "attachments": {},
   "cell_type": "markdown",
   "metadata": {},
   "source": [
    "Analysis is performed on the graph by adding weights. \n",
    "Degree assortativity coefficient is calculated."
   ]
  },
  {
   "cell_type": "code",
   "execution_count": null,
   "metadata": {},
   "outputs": [],
   "source": [
    "# Create a new dataframe 'weights' by grouping the rows of 'hero_df' by columns and counting the size of each\n",
    "# i.e., the number of appearances together \n",
    "weights = hero_df.groupby(hero_df.columns.tolist()).size().reset_index().rename(columns={0: 'weight'})\n",
    "\n",
    "# Group the data by hero1 and hero2 and sum the total weight \n",
    "weights[['hero1','hero2']] = pd.DataFrame(np.sort(weights[['hero1', 'hero2']].values, axis=1))\n",
    "hero_weighted = weights.groupby(['hero1', 'hero2']).weight.sum().reset_index()\n",
    "\n",
    "# Calculate the inverse weight\n",
    "hero_weighted['weight'] = round(1/hero_weighted['weight'],1)\n",
    "\n",
    "# Create a multi graph from the hero_weighted dataframe\n",
    "graphWeight = nx.from_pandas_edgelist(hero_weighted,'hero1','hero2', edge_attr='weight', create_using=nx.MultiGraph())\n"
   ]
  },
  {
   "cell_type": "code",
   "execution_count": null,
   "metadata": {},
   "outputs": [],
   "source": [
    "components = list(nx.connected_components(graphWeight))\n",
    "largest_component = max(components, key=len)\n",
    "graph_weighted = graphWeight.subgraph(largest_component)"
   ]
  },
  {
   "cell_type": "code",
   "execution_count": null,
   "metadata": {},
   "outputs": [],
   "source": [
    "springWeight = nx.spring_layout(H)\n",
    "plt.figure(figsize=(20,12))\n",
    "nx.draw(graph_weighted, springWeight )\n",
    "plt.show()"
   ]
  },
  {
   "cell_type": "code",
   "execution_count": null,
   "metadata": {},
   "outputs": [],
   "source": [
    "kamadaWeight = nx.kamada_kawai_layout(H)\n",
    "plt.figure(figsize=(20,12))\n",
    "nx.draw(graph_weighted, kamadaWeight )\n",
    "plt.show()"
   ]
  },
  {
   "cell_type": "code",
   "execution_count": null,
   "metadata": {},
   "outputs": [],
   "source": [
    "spiralWeight = nx.spiral_layout(H)\n",
    "plt.figure(figsize=(20,12))\n",
    "nx.draw(graph_weighted, spiralWeight )\n",
    "plt.show()"
   ]
  },
  {
   "cell_type": "code",
   "execution_count": null,
   "metadata": {},
   "outputs": [],
   "source": [
    "deg_centrality = nx.degree_centrality(H)\n",
    "\n",
    "cent = np.fromiter(deg_centrality.values(), float)\n",
    "sizes = cent / np.max(cent) * 200\n",
    "normalize = mcolors.Normalize(vmin=cent.min(), vmax=cent.max())\n",
    "colormap = plt.cm.viridis\n",
    "\n",
    "scalarmappaple = plt.cm.ScalarMappable(norm=normalize, cmap=colormap)\n",
    "scalarmappaple.set_array(cent)\n",
    "\n",
    "plt.colorbar(scalarmappaple)\n",
    "nx.draw(graph_weighted, kamadaWeight, node_size=sizes, node_color=sizes, cmap=colormap)\n",
    "plt.show()"
   ]
  },
  {
   "cell_type": "code",
   "execution_count": null,
   "metadata": {},
   "outputs": [],
   "source": [
    "betWeight = nx.betweenness_centrality(H)\n",
    "plt.figure(figsize=(15,10))\n",
    "sns.distplot(list(bet.values()), kde=False)"
   ]
  },
  {
   "cell_type": "code",
   "execution_count": null,
   "metadata": {},
   "outputs": [],
   "source": [
    "\n",
    "cent = np.fromiter(betWeight.values(), float)\n",
    "sizes = cent / np.max(cent) * 200\n",
    "normalize = mcolors.Normalize(vmin=cent.min(), vmax=cent.max())\n",
    "colormap = plt.cm.viridis\n",
    "\n",
    "scalarmappaple = plt.cm.ScalarMappable(norm=normalize, cmap=colormap)\n",
    "scalarmappaple.set_array(cent)\n",
    "\n",
    "plt.colorbar(scalarmappaple)\n",
    "nx.draw(graph_weighted, kamadaWeight, node_size=sizes, node_color=sizes, cmap=colormap)\n",
    "plt.show()"
   ]
  },
  {
   "cell_type": "code",
   "execution_count": null,
   "metadata": {},
   "outputs": [],
   "source": [
    "eccentricity = nx.eccentricity(graph_weighted)\n",
    "diameter = nx.diameter(graph_weighted)\n",
    "radius = nx.radius(graph_weighted)\n",
    "periphery = [node for node, ecc in eccentricity.items() if ecc == diameter]\n",
    "center = [node for node, ecc in eccentricity.items() if ecc == radius]\n",
    "assortativity = nx.degree_assortativity_coefficient(graph_weighted)"
   ]
  },
  {
   "cell_type": "code",
   "execution_count": null,
   "metadata": {},
   "outputs": [],
   "source": [
    "n_nodes = graph_weighted.number_of_nodes()\n",
    "n_edges = graph_weighted.number_of_edges()\n",
    "print(\"NODES: \" + n_nodes)\n",
    "print(\"EDGES: \" + n_edges)"
   ]
  },
  {
   "cell_type": "code",
   "execution_count": null,
   "metadata": {},
   "outputs": [],
   "source": [
    "density = 2*n_edges/(n_nodes*(n_nodes-1))\n",
    "print(\"DENSITY: \" + density)"
   ]
  },
  {
   "cell_type": "code",
   "execution_count": null,
   "metadata": {},
   "outputs": [],
   "source": [
    "print(\"ASSORTATIVITY: \" + assortativity)\n",
    "print(\"RADIUS: \" + radius)\n",
    "print(\"DIAMETER: \" + diameter)\n",
    "print(\"NODES IN PERIPHERY: \" + len(periphery))\n",
    "print(\"NODES IN CENTER: \" + len(center))"
   ]
  },
  {
   "attachments": {},
   "cell_type": "markdown",
   "metadata": {},
   "source": [
    "## Ego Network - Iron Man"
   ]
  },
  {
   "attachments": {},
   "cell_type": "markdown",
   "metadata": {},
   "source": [
    "Let's create an Ego Network on the character of Iron Man. On this Ego Network we go to calculate eigenvector_centrality, closeness and pagerank."
   ]
  },
  {
   "cell_type": "code",
   "execution_count": 7,
   "metadata": {},
   "outputs": [],
   "source": [
    "ego_graph = nx.ego_graph(graph, 'IRON MAN/TONY STARK ')\n",
    "ego_graph = nx.Graph(ego_graph)"
   ]
  },
  {
   "cell_type": "code",
   "execution_count": 8,
   "metadata": {},
   "outputs": [
    {
     "name": "stdout",
     "output_type": "stream",
     "text": [
      "NUMERO DI NODI EGO NETWORK IRON MAN: 1523\n",
      "NUMERO DI ARCHI EGO NETWORK IRON MAN: 73286\n",
      "GRAFO PESATO:  False\n"
     ]
    }
   ],
   "source": [
    "print(\"NUMERO DI NODI EGO NETWORK IRON MAN:\", ego_graph.number_of_nodes())\n",
    "print(\"NUMERO DI ARCHI EGO NETWORK IRON MAN:\", ego_graph.number_of_edges())\n",
    "print(\"GRAFO PESATO: \", nx.is_weighted(ego_graph))  # Output: True"
   ]
  },
  {
   "cell_type": "code",
   "execution_count": 10,
   "metadata": {},
   "outputs": [
    {
     "ename": "TypeError",
     "evalue": "'_AxesStack' object is not callable",
     "output_type": "error",
     "traceback": [
      "\u001b[1;31m---------------------------------------------------------------------------\u001b[0m",
      "\u001b[1;31mTypeError\u001b[0m                                 Traceback (most recent call last)",
      "Cell \u001b[1;32mIn[10], line 3\u001b[0m\n\u001b[0;32m      1\u001b[0m ego_pos \u001b[39m=\u001b[39m nx\u001b[39m.\u001b[39mspring_layout(ego_graph)\n\u001b[0;32m      2\u001b[0m plt\u001b[39m.\u001b[39mfigure(figsize\u001b[39m=\u001b[39m(\u001b[39m20\u001b[39m, \u001b[39m20\u001b[39m))\n\u001b[1;32m----> 3\u001b[0m nx\u001b[39m.\u001b[39;49mdraw(ego_graph, ego_pos)\n\u001b[0;32m      4\u001b[0m plt\u001b[39m.\u001b[39mshow()\n",
      "File \u001b[1;32mc:\\Users\\caros\\anaconda3\\envs\\DataScience\\lib\\site-packages\\networkx\\drawing\\nx_pylab.py:113\u001b[0m, in \u001b[0;36mdraw\u001b[1;34m(G, pos, ax, **kwds)\u001b[0m\n\u001b[0;32m    111\u001b[0m cf\u001b[39m.\u001b[39mset_facecolor(\u001b[39m\"\u001b[39m\u001b[39mw\u001b[39m\u001b[39m\"\u001b[39m)\n\u001b[0;32m    112\u001b[0m \u001b[39mif\u001b[39;00m ax \u001b[39mis\u001b[39;00m \u001b[39mNone\u001b[39;00m:\n\u001b[1;32m--> 113\u001b[0m     \u001b[39mif\u001b[39;00m cf\u001b[39m.\u001b[39;49m_axstack() \u001b[39mis\u001b[39;00m \u001b[39mNone\u001b[39;00m:\n\u001b[0;32m    114\u001b[0m         ax \u001b[39m=\u001b[39m cf\u001b[39m.\u001b[39madd_axes((\u001b[39m0\u001b[39m, \u001b[39m0\u001b[39m, \u001b[39m1\u001b[39m, \u001b[39m1\u001b[39m))\n\u001b[0;32m    115\u001b[0m     \u001b[39melse\u001b[39;00m:\n",
      "\u001b[1;31mTypeError\u001b[0m: '_AxesStack' object is not callable"
     ]
    },
    {
     "data": {
      "text/plain": [
       "<Figure size 2000x2000 with 0 Axes>"
      ]
     },
     "metadata": {},
     "output_type": "display_data"
    }
   ],
   "source": [
    "ego_pos = nx.spring_layout(ego_graph)\n",
    "plt.figure(figsize=(20, 20))\n",
    "nx.draw(ego_graph, ego_pos)\n",
    "plt.show()"
   ]
  },
  {
   "cell_type": "code",
   "execution_count": null,
   "metadata": {},
   "outputs": [],
   "source": [
    "closeness_centrality = nx.closeness_centrality(ego_graph)\n",
    "\n",
    "plt.figure(figsize=(20,15))\n",
    "cent = np.fromiter(closeness_centrality.values(), float)\n",
    "sizes = cent / np.max(cent) * 200\n",
    "normalize = mcolors.Normalize(vmin=cent.min(), vmax=cent.max())\n",
    "colormap = plt.cm.viridis\n",
    "\n",
    "scalarmappaple = plt.cm.ScalarMappable(norm=normalize, cmap=colormap)\n",
    "scalarmappaple.set_array(cent)\n",
    "plt.colorbar(scalarmappaple)\n",
    "\n",
    "nx.draw(ego_graph, ego_pos, node_size=25, node_color=sizes, cmap=colormap) #LAYOUT SPRING\n",
    "plt.show()"
   ]
  },
  {
   "cell_type": "code",
   "execution_count": null,
   "metadata": {},
   "outputs": [],
   "source": [
    "eigenvector_centrality = nx.eigenvector_centrality(ego_graph)\n",
    "\n",
    "plt.figure(figsize=(20,15))\n",
    "cent = np.fromiter(eigenvector_centrality.values(), float)\n",
    "sizes = cent / np.max(cent) * 200\n",
    "normalize = mcolors.Normalize(vmin=cent.min(), vmax=cent.max())\n",
    "colormap = plt.cm.viridis\n",
    "\n",
    "scalarmappaple = plt.cm.ScalarMappable(norm=normalize, cmap=colormap)\n",
    "scalarmappaple.set_array(cent)\n",
    "plt.colorbar(scalarmappaple)\n",
    "\n",
    "nx.draw(ego_graph, ego_pos, node_size=25, node_color=sizes, cmap=colormap) #LAYOUT SPRING\n",
    "plt.show()"
   ]
  },
  {
   "cell_type": "code",
   "execution_count": null,
   "metadata": {},
   "outputs": [],
   "source": [
    "pagerank = nx.pagerank(ego_graph)\n",
    "\n",
    "plt.figure(figsize=(20,15))\n",
    "cent = np.fromiter(pagerank.values(), float)\n",
    "sizes = cent / np.max(cent) * 200\n",
    "normalize = mcolors.Normalize(vmin=cent.min(), vmax=cent.max())\n",
    "colormap = plt.cm.viridis\n",
    "\n",
    "scalarmappaple = plt.cm.ScalarMappable(norm=normalize, cmap=colormap)\n",
    "scalarmappaple.set_array(cent)\n",
    "plt.colorbar(scalarmappaple)\n",
    "\n",
    "nx.draw(ego_graph, ego_pos, node_size=25, node_color=sizes, cmap=colormap) #LAYOUT SPRING\n",
    "plt.show()"
   ]
  },
  {
   "attachments": {},
   "cell_type": "markdown",
   "metadata": {},
   "source": [
    "### Communities\n"
   ]
  },
  {
   "attachments": {},
   "cell_type": "markdown",
   "metadata": {},
   "source": [
    "Analysis on network partitions and creation of a micro-network with only the best edges."
   ]
  },
  {
   "cell_type": "code",
   "execution_count": null,
   "metadata": {},
   "outputs": [],
   "source": [
    "partition = community_louvain.best_partition(ego_graph)  # compute communities\n",
    "\n",
    "plt.figure(figsize=(20,20)) \n",
    "plt.axis('off')\n",
    "nx.draw_networkx_nodes(ego_graph, ego_pos, node_size=60, cmap=plt.cm.RdYlBu, node_color=list(partition.values()))\n",
    "nx.draw_networkx_edges(ego_graph, ego_pos, alpha=0.3)\n",
    "plt.show(ego_graph)"
   ]
  },
  {
   "cell_type": "code",
   "execution_count": null,
   "metadata": {},
   "outputs": [],
   "source": [
    "from scipy.cluster.hierarchy import linkage, dendrogram\n",
    "\n",
    "community_count = max(partition.values()) +1\n",
    "\n",
    "community_similarity = np.zeros((community_count, community_count))\n",
    "for node1, com1 in partition.items():\n",
    "    for node2, com2 in partition.items():\n",
    "        if com1 == com2:\n",
    "            continue\n",
    "        if ego_graph.has_edge(node1, node2):\n",
    "            community_similarity[com1][com2] += 1\n",
    "\n",
    "# perform linkage clustering on the similarity matrix\n",
    "linkage_matrix = linkage(community_similarity, method='ward')\n",
    "\n",
    "# plot dendrogram\n",
    "plt.figure(figsize=(20,10))\n",
    "dendrogram(linkage_matrix, labels=[f\"Community {i}\" for i in range(community_count)])\n",
    "plt.show()"
   ]
  },
  {
   "cell_type": "code",
   "execution_count": null,
   "metadata": {},
   "outputs": [],
   "source": [
    "weight_threshold = 0.01\n",
    "# Itera on graph nodes\n",
    "for node in list(ego_graph.nodes()):\n",
    "  # Itera non node neighbors\n",
    "  for neighbor in list(ego_graph.neighbors(node)):\n",
    "    # If the weight of the edge is above the threshold, remove the node and edge\n",
    "    if ego_graph[node][neighbor][\"weight\"] > weight_threshold:\n",
    "      ego_graph.remove_edge(node, neighbor)\n",
    "\n",
    "for node in list(ego_graph.nodes()):\n",
    "  # If the node has no neighbors, remove it\n",
    "  if len(list(ego_graph.neighbors(node))) ==0:\n",
    "    ego_graph.remove_node(node)\n",
    "\n",
    "components = list(nx.connected_components(ego_graph))\n",
    "largest_component = max(components, key=len)\n",
    "ego_graph = ego_graph.subgraph(largest_component)\n",
    "\n",
    "print(\"NODES:\", ego_graph.number_of_nodes())\n",
    "print(\"EDGES:\", ego_graph.number_of_edges())\n",
    "print(\"WEIGHTED:\" + nx.is_weighted(graph))  # Output: True"
   ]
  },
  {
   "cell_type": "code",
   "execution_count": null,
   "metadata": {},
   "outputs": [],
   "source": [
    "ego_pos = nx.spring_layout(ego_graph)\n",
    "plt.figure(figsize=(20, 20))\n",
    "nx.draw(ego_graph, ego_pos, node_color= '#ff0000', node_size = 125, with_labels = True)\n",
    "plt.show()"
   ]
  },
  {
   "attachments": {},
   "cell_type": "markdown",
   "metadata": {},
   "source": [
    "## Sampled Graph"
   ]
  },
  {
   "cell_type": "code",
   "execution_count": 16,
   "metadata": {},
   "outputs": [
    {
     "name": "stdout",
     "output_type": "stream",
     "text": [
      "Hero: THOR/DR. DONALD BLAK | Degree Centrality: 0.1939799331103679\n",
      "Hero: WASP/JANET VAN DYNE  | Degree Centrality: 0.17391304347826086\n",
      "Hero: BLACK PANTHER/T'CHAL | Degree Centrality: 0.12709030100334448\n",
      "Hero: FORGE | Degree Centrality: 0.06688963210702341\n",
      "Hero: POWER MAN/ERIK JOSTE | Degree Centrality: 0.06688963210702341\n",
      "Hero: SANDMAN/WILLIAM BAKE | Degree Centrality: 0.06020066889632107\n",
      "Hero: HIGH EVOLUTIONARY/HE | Degree Centrality: 0.05351170568561873\n",
      "Hero: BALDER [ASGARDIAN] | Degree Centrality: 0.05351170568561873\n",
      "Hero: TILBY, TRISH/PATRICI | Degree Centrality: 0.05016722408026756\n",
      "Hero: GREEN GOBLIN/NORMAN  | Degree Centrality: 0.05016722408026756\n",
      "Hero: X-MAN/NATHAN GREY  | Degree Centrality: 0.05016722408026756\n",
      "Hero: LUMPKIN, WILLIAM WIL | Degree Centrality: 0.046822742474916385\n",
      "Hero: DAZZLER II/ALLISON B | Degree Centrality: 0.046822742474916385\n",
      "Hero: GLADIATOR II | Degree Centrality: 0.04013377926421405\n",
      "Hero: BLACK CAT/FELICIA HA | Degree Centrality: 0.04013377926421405\n",
      "Hero: SNOWBIRD/NARYA/ANNE  | Degree Centrality: 0.04013377926421405\n",
      "Hero: CLEA | Degree Centrality: 0.033444816053511704\n",
      "Hero: COUNT NEFARIA, LUCHI | Degree Centrality: 0.033444816053511704\n",
      "Hero: RED WOLF III/WILL TA | Degree Centrality: 0.030100334448160536\n",
      "Hero: ONSLAUGHT II | Degree Centrality: 0.026755852842809364\n",
      "Hero: ATTUMA | Degree Centrality: 0.026755852842809364\n",
      "Hero: BLACKOUT/MARCUS DANI | Degree Centrality: 0.026755852842809364\n",
      "Hero: BLOOD BROTHERS | Degree Centrality: 0.026755852842809364\n",
      "Hero: BLACK MAMBA/TANYA SE | Degree Centrality: 0.026755852842809364\n",
      "Hero: MOWAT, FARLEY | Degree Centrality: 0.023411371237458192\n",
      "Hero: FIRELORD/PYREUS KRIL | Degree Centrality: 0.023411371237458192\n",
      "Hero: JONES, JANIS | Degree Centrality: 0.023411371237458192\n",
      "Hero: NURO | Degree Centrality: 0.023411371237458192\n",
      "Hero: ISAAC | Degree Centrality: 0.023411371237458192\n",
      "Hero: SHAW, SHINOBI | Degree Centrality: 0.020066889632107024\n",
      "Hero: NELSON, CANDACE | Degree Centrality: 0.020066889632107024\n",
      "Hero: TALISMAN | Degree Centrality: 0.020066889632107024\n",
      "Hero: COPYCAT/VANESSA | Degree Centrality: 0.020066889632107024\n",
      "Hero: MADAME MASQUE III | Degree Centrality: 0.020066889632107024\n",
      "Hero: RED GUARDIAN V | Degree Centrality: 0.020066889632107024\n",
      "Hero: AUSTIN, SUSAN | Degree Centrality: 0.016722408026755852\n",
      "Hero: PLANTMAN/SAM SMITHER | Degree Centrality: 0.016722408026755852\n",
      "Hero: WOLFSBANE DOPPELGANG | Degree Centrality: 0.016722408026755852\n",
      "Hero: APE MAN/GORDON MONK  | Degree Centrality: 0.016722408026755852\n",
      "Hero: TEFRAL | Degree Centrality: 0.016722408026755852\n",
      "Hero: BEERE, JASON | Degree Centrality: 0.016722408026755852\n",
      "Hero: HOPKINS, STEVE | Degree Centrality: 0.016722408026755852\n",
      "Hero: DAMIAN, MARGO | Degree Centrality: 0.013377926421404682\n",
      "Hero: WHITE TIGER II | Degree Centrality: 0.013377926421404682\n",
      "Hero: PREYY | Degree Centrality: 0.013377926421404682\n",
      "Hero: NIGHT RIDER III/HAMI | Degree Centrality: 0.013377926421404682\n",
      "Hero: CAMPBELL, DR. RORY | Degree Centrality: 0.013377926421404682\n",
      "Hero: CENTURY | Degree Centrality: 0.013377926421404682\n",
      "Hero: REAPER II | Degree Centrality: 0.013377926421404682\n",
      "Hero: WAR/ABRAHAM LINCOLN  | Degree Centrality: 0.013377926421404682\n",
      "Hero: FROG MAN/FROG LE BLA | Degree Centrality: 0.013377926421404682\n",
      "Hero: CABER | Degree Centrality: 0.013377926421404682\n",
      "Hero: ELEKTRA | MUTANT X-V | Degree Centrality: 0.013377926421404682\n",
      "Hero: DARKHAWK DOPPELGANGE | Degree Centrality: 0.013377926421404682\n",
      "Hero: MONTANA | Degree Centrality: 0.013377926421404682\n",
      "Hero: CASSIOPEIA | Degree Centrality: 0.010033444816053512\n",
      "Hero: JINKU | Degree Centrality: 0.010033444816053512\n",
      "Hero: X'HOSS | Degree Centrality: 0.010033444816053512\n",
      "Hero: SPIDER-MAN III/MARTH | Degree Centrality: 0.010033444816053512\n",
      "Hero: BLIZZARD II/DONALD G | Degree Centrality: 0.010033444816053512\n",
      "Hero: GOG | Degree Centrality: 0.010033444816053512\n",
      "Hero: POTTER, BETSY BEATTY | Degree Centrality: 0.010033444816053512\n",
      "Hero: FOXBAT | Degree Centrality: 0.010033444816053512\n",
      "Hero: BANSHEE II | Degree Centrality: 0.010033444816053512\n",
      "Hero: DAMIAN, DR. DANIEL | Degree Centrality: 0.010033444816053512\n",
      "Hero: LUMINOR | Degree Centrality: 0.010033444816053512\n",
      "Hero: CASSADA, MICHAEL | Degree Centrality: 0.010033444816053512\n",
      "Hero: EIGHTBALL | Degree Centrality: 0.010033444816053512\n",
      "Hero: RAYMOND, ANN | Degree Centrality: 0.010033444816053512\n",
      "Hero: MARVEL GIRL II/VALER | Degree Centrality: 0.006688963210702341\n",
      "Hero: MR. DOLL/NATHAN DOLL | Degree Centrality: 0.006688963210702341\n",
      "Hero: VERTIGO | Degree Centrality: 0.006688963210702341\n",
      "Hero: DA COSTA, EMMANUEL | Degree Centrality: 0.006688963210702341\n",
      "Hero: CONOVER, REV. WILLIA | Degree Centrality: 0.006688963210702341\n",
      "Hero: DELPHI | Degree Centrality: 0.006688963210702341\n",
      "Hero: SCICLUNA, MICHELE | Degree Centrality: 0.006688963210702341\n",
      "Hero: MANH, COY LEONG XUI | Degree Centrality: 0.006688963210702341\n",
      "Hero: CLEARCUT | Degree Centrality: 0.006688963210702341\n",
      "Hero: CRIMSON DYNAMO III/A | Degree Centrality: 0.006688963210702341\n",
      "Hero: COCKROACH | Degree Centrality: 0.006688963210702341\n",
      "Hero: BRANNEX, ALLESSANDRO | Degree Centrality: 0.006688963210702341\n",
      "Hero: COAL TIGER/T'CHALLA  | Degree Centrality: 0.006688963210702341\n",
      "Hero: NILES, SEN. CATHERIN | Degree Centrality: 0.006688963210702341\n",
      "Hero: GAZELLE | Degree Centrality: 0.006688963210702341\n",
      "Hero: CASSANDRA | Degree Centrality: 0.006688963210702341\n",
      "Hero: PELTINO, LT. | Degree Centrality: 0.006688963210702341\n",
      "Hero: MOLLE, DR. | Degree Centrality: 0.006688963210702341\n",
      "Hero: COLLINS, DEMITRIUS | Degree Centrality: 0.006688963210702341\n",
      "Hero: DOPPELGANGER | Degree Centrality: 0.006688963210702341\n",
      "Hero: OSWALD | Degree Centrality: 0.006688963210702341\n",
      "Hero: KILLRAVEN/JONATHAN R | Degree Centrality: 0.006688963210702341\n",
      "Hero: BUSHMAN, RAOUL | Degree Centrality: 0.006688963210702341\n",
      "Hero: VANADIUM | Degree Centrality: 0.006688963210702341\n",
      "Hero: FAMINE | MUTANT X-VE | Degree Centrality: 0.006688963210702341\n",
      "Hero: ORWELL | Degree Centrality: 0.006688963210702341\n",
      "Hero: JONES, HUGH | Degree Centrality: 0.006688963210702341\n",
      "Hero: MALPHER, KATHY | Degree Centrality: 0.006688963210702341\n",
      "Hero: LANGTREE, GINA | Degree Centrality: 0.006688963210702341\n",
      "Hero: ANON, LORD | Degree Centrality: 0.006688963210702341\n",
      "Hero: PUDDLEGULP | Degree Centrality: 0.006688963210702341\n",
      "Hero: LOR, KONA | Degree Centrality: 0.006688963210702341\n",
      "Hero: LEVINE, ABBY | Degree Centrality: 0.006688963210702341\n",
      "Hero: LANN | Degree Centrality: 0.006688963210702341\n",
      "Hero: LOBO, EDUARDO | Degree Centrality: 0.006688963210702341\n",
      "Hero: COPPER | Degree Centrality: 0.006688963210702341\n",
      "Hero: EGO-PRIME | Degree Centrality: 0.006688963210702341\n",
      "Hero: KRAUS, DR. FREIDERIC | Degree Centrality: 0.006688963210702341\n",
      "Hero: TORK, LT. | Degree Centrality: 0.006688963210702341\n",
      "Hero: GAFF/SIDNEY E. LEVIN | Degree Centrality: 0.0033444816053511705\n",
      "Hero: PROCTOR, COORDINATOR | Degree Centrality: 0.0033444816053511705\n",
      "Hero: JASMINE | Degree Centrality: 0.0033444816053511705\n",
      "Hero: STEVENS, DR. VINCENT | Degree Centrality: 0.0033444816053511705\n",
      "Hero: MONTANA II | Degree Centrality: 0.0033444816053511705\n",
      "Hero: MOTHER-OF-PAIN | Degree Centrality: 0.0033444816053511705\n",
      "Hero: CHERRYH, RANDOLPH WI | Degree Centrality: 0.0033444816053511705\n",
      "Hero: BERNSTEIN, DR. NOAH | Degree Centrality: 0.0033444816053511705\n",
      "Hero: MYSTIQUE | MUTANT X- | Degree Centrality: 0.0033444816053511705\n",
      "Hero: BIGGERS, MELVIN | Degree Centrality: 0.0033444816053511705\n",
      "Hero: NANABOZHO | Degree Centrality: 0.0033444816053511705\n",
      "Hero: EL UNO | Degree Centrality: 0.0033444816053511705\n",
      "Hero: BUTTERFLY | Degree Centrality: 0.0033444816053511705\n",
      "Hero: RADION | Degree Centrality: 0.0033444816053511705\n",
      "Hero: TRIAX | Degree Centrality: 0.0033444816053511705\n",
      "Hero: NEDDA | Degree Centrality: 0.0033444816053511705\n",
      "Hero: SCORPIO IV | Degree Centrality: 0.0033444816053511705\n",
      "Hero: DEADLY DORIS | Degree Centrality: 0.0033444816053511705\n",
      "Hero: MANX | Degree Centrality: 0.0033444816053511705\n",
      "Hero: KILLIAN | Degree Centrality: 0.0033444816053511705\n",
      "Hero: WEISENTHAL, DR. JACO | Degree Centrality: 0.0033444816053511705\n",
      "Hero: MOK | Degree Centrality: 0.0033444816053511705\n",
      "Hero: JAVELIN/DARIN | Degree Centrality: 0.0033444816053511705\n",
      "Hero: AHQLAU | Degree Centrality: 0.0033444816053511705\n",
      "Hero: CRIMEBUSTER/FRANK MO | Degree Centrality: 0.0033444816053511705\n",
      "Hero: KAUR, BENAZIR | Degree Centrality: 0.0033444816053511705\n",
      "Hero: SILVER | Degree Centrality: 0.0033444816053511705\n",
      "Hero: SHOOTER, JIM | Degree Centrality: 0.0033444816053511705\n",
      "Hero: BLACKOUT II | Degree Centrality: 0.0033444816053511705\n",
      "Hero: ARCHER/JUDE BLACK | Degree Centrality: 0.0033444816053511705\n",
      "Hero: THOMPSON, ROSIE | Degree Centrality: 0.0033444816053511705\n",
      "Hero: SEA URCHIN/JEREMY SW | Degree Centrality: 0.0033444816053511705\n",
      "Hero: TERREL, DEBORAH | Degree Centrality: 0.0033444816053511705\n",
      "Hero: KARYGMAX | Degree Centrality: 0.0033444816053511705\n",
      "Hero: ARLISSE | Degree Centrality: 0.0033444816053511705\n",
      "Hero: RAMIREZ, ALMA | Degree Centrality: 0.0033444816053511705\n",
      "Hero: VOLSTAGG | MUTANT X- | Degree Centrality: 0.0033444816053511705\n",
      "Hero: WOLFE, SARA | Degree Centrality: 0.0033444816053511705\n",
      "Hero: IT | Degree Centrality: 0.0033444816053511705\n",
      "Hero: ESON II | Degree Centrality: 0.0033444816053511705\n",
      "Hero: GRASSWIND, Z'OOFREY | Degree Centrality: 0.0033444816053511705\n",
      "Hero: GIDEON, GREGORY HUNG | Degree Centrality: 0.0033444816053511705\n",
      "Hero: MACE | Degree Centrality: 0.0033444816053511705\n",
      "Hero: IDRIS | Degree Centrality: 0.0033444816053511705\n",
      "Hero: DR. VAULT | Degree Centrality: 0.0033444816053511705\n",
      "Hero: FROSTBITE/DR. SLOANE | Degree Centrality: 0.0033444816053511705\n",
      "Hero: SCRIER JR. | Degree Centrality: 0.0033444816053511705\n",
      "Hero: AUSTIN, TERRY | Degree Centrality: 0.0033444816053511705\n",
      "Hero: PHOBIUS | Degree Centrality: 0.0033444816053511705\n",
      "Hero: DEPAUL, SHIELD SPECI | Degree Centrality: 0.0033444816053511705\n",
      "Hero: STARSHINE/LANDRA | Degree Centrality: 0.0033444816053511705\n",
      "Hero: KRAKEN | Degree Centrality: 0.0033444816053511705\n",
      "Hero: CARTER, BRAD | Degree Centrality: 0.0033444816053511705\n",
      "Hero: VAVELLA | Degree Centrality: 0.0033444816053511705\n",
      "Hero: DAVID, PETER | Degree Centrality: 0.0033444816053511705\n",
      "Hero: ECLIPTIC | Degree Centrality: 0.0033444816053511705\n",
      "Hero: RAMIREZ, MARTA | Degree Centrality: 0.0033444816053511705\n",
      "Hero: AGENT-X | Degree Centrality: 0.0033444816053511705\n",
      "Hero: DAY | Degree Centrality: 0.0033444816053511705\n",
      "Hero: MECHADOOM | Degree Centrality: 0.0033444816053511705\n",
      "Hero: SEEKER/TARM | Degree Centrality: 0.0033444816053511705\n",
      "Hero: CARRION III/DR. WILL | Degree Centrality: 0.0033444816053511705\n",
      "Hero: VANE, ROGER | Degree Centrality: 0.0033444816053511705\n",
      "Hero: BARRINGTON | Degree Centrality: 0.0033444816053511705\n",
      "Hero: WERNER, P.D.Q. | Degree Centrality: 0.0033444816053511705\n",
      "Hero: 24-HOUR MAN/EMMANUEL | Degree Centrality: 0.0033444816053511705\n",
      "Hero: HENSHAW, CURTIS | Degree Centrality: 0.0033444816053511705\n",
      "Hero: HAIRBAG/SUGGS | Degree Centrality: 0.0033444816053511705\n",
      "Hero: RIDGEWAY, DAWN | Degree Centrality: 0.0033444816053511705\n",
      "Hero: WEAPON X III | Degree Centrality: 0.0033444816053511705\n",
      "Hero: MILLER, JENETTE | Degree Centrality: 0.0033444816053511705\n",
      "Hero: O'HOOLIHAN, SERGIUS | Degree Centrality: 0.0033444816053511705\n",
      "Hero: FOOLKILLER III/KURT  | Degree Centrality: 0.0\n",
      "Hero: MADAME QWA | Degree Centrality: 0.0\n",
      "Hero: ANTI-VISION | Degree Centrality: 0.0\n",
      "Hero: SPORE | Degree Centrality: 0.0\n",
      "Hero: TERRAX | Degree Centrality: 0.0\n",
      "Hero: REVENANT | Degree Centrality: 0.0\n",
      "Hero: LYLLA | Degree Centrality: 0.0\n",
      "Hero: BLOCKBUSTER II | Degree Centrality: 0.0\n",
      "Hero: RAVEN | Degree Centrality: 0.0\n",
      "Hero: VOID-EATER | Degree Centrality: 0.0\n",
      "Hero: CLAY, GORDON | Degree Centrality: 0.0\n",
      "Hero: JONES, ANDY | Degree Centrality: 0.0\n",
      "Hero: JENKINS, WALTER | Degree Centrality: 0.0\n",
      "Hero: PAPA GRANITE | Degree Centrality: 0.0\n",
      "Hero: STYGE, REV. | Degree Centrality: 0.0\n",
      "Hero: YRIK | Degree Centrality: 0.0\n",
      "Hero: STONE, NELSON | Degree Centrality: 0.0\n",
      "Hero: SUNDANCE | Degree Centrality: 0.0\n",
      "Hero: IMPACT | Degree Centrality: 0.0\n",
      "Hero: OLALLA | Degree Centrality: 0.0\n",
      "Hero: RAPTOR II/PROFESSOR  | Degree Centrality: 0.0\n",
      "Hero: VOGEL | Degree Centrality: 0.0\n",
      "Hero: ARMAND | Degree Centrality: 0.0\n",
      "Hero: ULTARNT | Degree Centrality: 0.0\n",
      "Hero: POWELL, AMY | Degree Centrality: 0.0\n",
      "Hero: NINJA | Degree Centrality: 0.0\n",
      "Hero: SHAW, JACOB | Degree Centrality: 0.0\n",
      "Hero: KANGAROO/FRANK OLIVE | Degree Centrality: 0.0\n",
      "Hero: APE-X/XINA | Degree Centrality: 0.0\n",
      "Hero: LOWELL, DR. | Degree Centrality: 0.0\n",
      "Hero: JACK SERIOUS/DR. JOH | Degree Centrality: 0.0\n",
      "Hero: GALANNAN, BILL | Degree Centrality: 0.0\n",
      "Hero: GILBERTI, ROSE | Degree Centrality: 0.0\n",
      "Hero: QIRMET | Degree Centrality: 0.0\n",
      "Hero: MOSH/GLENN | Degree Centrality: 0.0\n",
      "Hero: KLEIN, CAMERON | Degree Centrality: 0.0\n",
      "Hero: PARADIGM | Degree Centrality: 0.0\n",
      "Hero: GATZ, WILLIAM BILLY | Degree Centrality: 0.0\n",
      "Hero: SANDOVAL, DIEGO | Degree Centrality: 0.0\n",
      "Hero: VISALIA | Degree Centrality: 0.0\n",
      "Hero: RAPTAR | Degree Centrality: 0.0\n",
      "Hero: CAIRN, DET. | Degree Centrality: 0.0\n",
      "Hero: HYPNO-HUSTLER | Degree Centrality: 0.0\n",
      "Hero: DIXON, GENERAL | Degree Centrality: 0.0\n",
      "Hero: SMITH, ANDY | Degree Centrality: 0.0\n",
      "Hero: STINGER | Degree Centrality: 0.0\n",
      "Hero: CHAKRA | Degree Centrality: 0.0\n",
      "Hero: WEISENTHAL, DR. JONA | Degree Centrality: 0.0\n",
      "Hero: FRASER, DET. KATE | Degree Centrality: 0.0\n",
      "Hero: SLAYER | Degree Centrality: 0.0\n",
      "Hero: MADAME ROSE | Degree Centrality: 0.0\n",
      "Hero: WENDIGO/PAUL CARTIER | Degree Centrality: 0.0\n",
      "Hero: DABUTA, NIGEL | Degree Centrality: 0.0\n",
      "Hero: JUSTIN, GLORIA | Degree Centrality: 0.0\n",
      "Hero: RAMPAGE/STUART CLARK | Degree Centrality: 0.0\n",
      "Hero: TAR | Degree Centrality: 0.0\n",
      "Hero: BLACK WIDOW | MUTANT | Degree Centrality: 0.0\n",
      "Hero: WOLFSBANE 2013 | Degree Centrality: 0.0\n",
      "Hero: KRYZEWSKI, LEONARD M | Degree Centrality: 0.0\n",
      "Hero: EL TIGRE | Degree Centrality: 0.0\n",
      "Hero: WHITE, PROFESSOR | Degree Centrality: 0.0\n",
      "Hero: CHARLIE | Degree Centrality: 0.0\n",
      "Hero: HALL, MORGAN | Degree Centrality: 0.0\n",
      "Hero: EXILE | Degree Centrality: 0.0\n",
      "Hero: WARPY | Degree Centrality: 0.0\n",
      "Hero: THORPE, LUKE | Degree Centrality: 0.0\n",
      "Hero: OTOMO | Degree Centrality: 0.0\n",
      "Hero: SLIDE | Degree Centrality: 0.0\n",
      "Hero: MO MONEY | Degree Centrality: 0.0\n",
      "Hero: GUARDIAN IV | Degree Centrality: 0.0\n",
      "Hero: RAVENWOOD | Degree Centrality: 0.0\n",
      "Hero: CARBONE, JULIUS | Degree Centrality: 0.0\n",
      "Hero: GREGORY, TODD | Degree Centrality: 0.0\n",
      "Hero: PLEX INTELLIGENCE | Degree Centrality: 0.0\n",
      "Hero: WAYOPEX | Degree Centrality: 0.0\n",
      "Hero: THOMAS, BECKY | Degree Centrality: 0.0\n",
      "Hero: SPOILSPORT | Degree Centrality: 0.0\n",
      "Hero: NUGENT | Degree Centrality: 0.0\n",
      "Hero: GALE, SHERIFF | Degree Centrality: 0.0\n",
      "Hero: CONCIERGE, LE | Degree Centrality: 0.0\n",
      "Hero: GUNSHIP/CARY ROUNTRE | Degree Centrality: 0.0\n",
      "Hero: FLEET, TAMARA | Degree Centrality: 0.0\n",
      "Hero: HOSEK, BULL | Degree Centrality: 0.0\n",
      "Hero: PAKAI | Degree Centrality: 0.0\n",
      "Hero: DRAGON OF THE MOON | Degree Centrality: 0.0\n",
      "Hero: DRY | Degree Centrality: 0.0\n",
      "Hero: MIESHO | Degree Centrality: 0.0\n",
      "Hero: SCALEFACE | Degree Centrality: 0.0\n",
      "Hero: SAINT, AMANDA | Degree Centrality: 0.0\n",
      "Hero: RECKLESS ERIC | Degree Centrality: 0.0\n",
      "Hero: SCENE STEALER | Degree Centrality: 0.0\n",
      "Hero: FRANKENSURFER/BORGO | Degree Centrality: 0.0\n",
      "Hero: FIREFALL III/ARCHIE  | Degree Centrality: 0.0\n",
      "Hero: HYPERTRON II/STURDEV | Degree Centrality: 0.0\n",
      "Hero: CUSSLER, PHILLIP JR. | Degree Centrality: 0.0\n",
      "Hero: DEPALMA, MR. | Degree Centrality: 0.0\n",
      "Hero: HILL, GEORGE | Degree Centrality: 0.0\n",
      "Hero: SANTOS, MARIO | Degree Centrality: 0.0\n",
      "Hero: FITZPATRICK, WILL | Degree Centrality: 0.0\n",
      "Hero: DARGIL | Degree Centrality: 0.0\n",
      "Hero: BROTHERS GRIMM | Degree Centrality: 0.0\n",
      "Hero: SURGEON GENERAL/ANGE | Degree Centrality: 0.0\n",
      "Hero: CRIMSON DAFFODIL | Degree Centrality: 0.0\n",
      "Hero: GUTHRIE, LUCINDA | Degree Centrality: 0.0\n",
      "Hero: LAYLA | Degree Centrality: 0.0\n",
      "Hero: SUEE, FAH LO | Degree Centrality: 0.0\n",
      "Hero: CUFFS | Degree Centrality: 0.0\n",
      "Hero: NOCTURNE II/ANGELA C | Degree Centrality: 0.0\n",
      "Hero: ANGEL DOPPELGANGER | Degree Centrality: 0.0\n",
      "Hero: FLORES, SHANICE | Degree Centrality: 0.0\n",
      "Hero: MANELLI, DINO | Degree Centrality: 0.0\n",
      "Hero: WEAVER, ZEKE | Degree Centrality: 0.0\n",
      "Hero: MIND'S EYE/MEACHAM | Degree Centrality: 0.0\n",
      "Hero: JANUS II | Degree Centrality: 0.0\n",
      "Hero: ALBINO/DR. AUGUSTA S | Degree Centrality: 0.0\n",
      "Hero: LEBEAU, JACQUE | Degree Centrality: 0.0\n",
      "Hero: BOBCAT | Degree Centrality: 0.0\n",
      "Hero: KUTUZOV, COL. | Degree Centrality: 0.0\n",
      "Hero: VOICE | Degree Centrality: 0.0\n",
      "Hero: PRINCE BAYAN | Degree Centrality: 0.0\n"
     ]
    },
    {
     "name": "stderr",
     "output_type": "stream",
     "text": [
      "C:\\Users\\caros\\AppData\\Local\\Temp\\ipykernel_4948\\2629435765.py:20: DeprecationWarning: Sampling from a set deprecated\n",
      "since Python 3.9 and will be removed in a subsequent version.\n",
      "  random_nodes = random.sample(G.nodes, 300)\n"
     ]
    }
   ],
   "source": [
    "import pandas as pd\n",
    "import networkx as nx\n",
    "import random\n",
    "\n",
    "# Load hero_df dataframe data from hero-network.csv\n",
    "hero_df = pd.read_csv('hero-network.csv')\n",
    "\n",
    "# Deletes the '/' character at the end of the of each name and truncates the words to 20 characters\n",
    "hero_df['hero1'] = hero_df['hero1'].apply(lambda x: x.rstrip('/')[:20])\n",
    "hero_df['hero2'] = hero_df['hero2'].apply(lambda x: x.rstrip('/')[:20])\n",
    "\n",
    "#Deletes lines with a hero linked to itselfhero_df.drop(hero_df[hero_df['hero1'] == hero_df['hero2']].index, inplace = True)\n",
    "hero_df.drop(hero_df[hero_df['hero1'] == hero_df['hero2']].index, inplace = True)\n",
    "\n",
    "# Create a graph using the values of the rows in the dataframe\n",
    "G = nx.Graph()\n",
    "G.add_edges_from(hero_df[[\"hero1\", \"hero2\"]].values)\n",
    "\n",
    "# Extract a subgraph of 300 random nodes\n",
    "random.seed(42)\n",
    "random_nodes = random.sample(G.nodes, 300)\n",
    "subgraph = G.subgraph(random_nodes)\n",
    "\n",
    "# Calculate degree centrality for each node and save it in a dictionary\n",
    "degree_centrality = nx.degree_centrality(subgraph)\n",
    "\n",
    "# Sort degree centrality values in descending order\n",
    "sorted_degree_centrality = dict(sorted(degree_centrality.items(), key=lambda item: item[1], reverse=True))\n",
    "\n",
    "# Print sorted degree centrality values\n",
    "for hero, centrality in sorted_degree_centrality.items():\n",
    "    print(\"Hero:\", hero, \"| Degree Centrality:\", centrality)\n"
   ]
  },
  {
   "cell_type": "code",
   "execution_count": 17,
   "metadata": {},
   "outputs": [
    {
     "data": {
      "image/png": "[encoded data removed]",
      "text/plain": [
       "<Figure size 640x480 with 1 Axes>"
      ]
     },
     "metadata": {},
     "output_type": "display_data"
    },
    {
     "name": "stdout",
     "output_type": "stream",
     "text": [
      "Mean Degree Centrality: 0.008539576365663321\n"
     ]
    },
    {
     "data": {
      "image/png": "[encoded data removed]",
      "text/plain": [
       "<Figure size 640x480 with 1 Axes>"
      ]
     },
     "metadata": {},
     "output_type": "display_data"
    }
   ],
   "source": [
    "# Plot histogram of degree centrality values\n",
    "plt.hist(list(degree_centrality.values()), bins=20, edgecolor='black')\n",
    "plt.xlabel('Degree Centrality')\n",
    "plt.ylabel('Number of Nodes')\n",
    "plt.title('Histogram of Degree Centrality Values')\n",
    "plt.show()\n",
    "\n",
    "# Calculate mean degree centrality\n",
    "mean_degree_centrality = np.mean(list(degree_centrality.values()))\n",
    "print(\"Mean Degree Centrality:\", mean_degree_centrality)\n",
    "\n",
    "# Plot bar graph of top 10 nodes with highest degree centrality\n",
    "top_10 = dict(list(sorted_degree_centrality.items())[:10])\n",
    "plt.bar(top_10.keys(), top_10.values())\n",
    "plt.xlabel('Node')\n",
    "plt.ylabel('Degree Centrality')\n",
    "plt.title('Top 10 Nodes with Highest Degree Centrality')\n",
    "plt.xticks(rotation=90)\n",
    "plt.show()"
   ]
  },
  {
   "cell_type": "code",
   "execution_count": 30,
   "metadata": {},
   "outputs": [
    {
     "name": "stdout",
     "output_type": "stream",
     "text": [
      "The mean of degree centrality is: 0.008561872909698997\n",
      "The standard deviation of degree centrality is: 0.01679573666094852\n"
     ]
    }
   ],
   "source": [
    "# Calculate degree centralities for each node in the subgraph\n",
    "degree_centralities = nx.degree_centrality(subgraph)\n",
    "degree_values = list(degree_centralities.values())\n",
    "\n",
    "# Calculate mean and standard deviation\n",
    "mean = np.mean(degree_values)\n",
    "std = np.std(degree_values)\n",
    "\n",
    "print(\"The mean of degree centrality is:\", mean)\n",
    "print(\"The standard deviation of degree centrality is:\", std)\n"
   ]
  },
  {
   "cell_type": "code",
   "execution_count": 31,
   "metadata": {},
   "outputs": [
    {
     "data": {
      "image/png": "[encoded data removed]",
      "text/plain": [
       "<Figure size 640x480 with 1 Axes>"
      ]
     },
     "metadata": {},
     "output_type": "display_data"
    }
   ],
   "source": [
    "import matplotlib.pyplot as plt\n",
    "\n",
    "# Calculate the distribution of degree centralities\n",
    "hist, bins = np.histogram(degree_values, bins=50)\n",
    "width = 0.7 * (bins[1] - bins[0])\n",
    "center = (bins[:-1] + bins[1:]) / 2\n",
    "\n",
    "# Plot the distribution\n",
    "plt.bar(center, hist, align='center', width=width)\n",
    "plt.show()\n"
   ]
  },
  {
   "cell_type": "code",
   "execution_count": 33,
   "metadata": {},
   "outputs": [
    {
     "name": "stdout",
     "output_type": "stream",
     "text": [
      "The correlation between the centralities is:\n",
      "               degree  closeness  betweenness\n",
      "degree       1.000000   0.610616     0.854535\n",
      "closeness    0.610616   1.000000     0.385262\n",
      "betweenness  0.854535   0.385262     1.000000\n"
     ]
    }
   ],
   "source": [
    "import pandas as pd\n",
    "\n",
    "# Calculate other centrality measures, such as closeness centrality and betweenness centrality\n",
    "closeness_centralities = nx.closeness_centrality(subgraph)\n",
    "closeness_values = list(closeness_centralities.values())\n",
    "betweenness_centralities = nx.betweenness_centrality(subgraph)\n",
    "betweenness_values = list(betweenness_centralities.values())\n",
    "\n",
    "# Create a dataframe to store the centralities\n",
    "df = pd.DataFrame({'degree': degree_values, 'closeness': closeness_values, 'betweenness': betweenness_values})\n",
    "\n",
    "# Calculate the correlation between the centralities\n",
    "correlation = df.corr()\n",
    "\n",
    "print(\"The correlation between the centralities is:\")\n",
    "print(correlation)\n"
   ]
  },
  {
   "cell_type": "code",
   "execution_count": 34,
   "metadata": {},
   "outputs": [
    {
     "data": {
      "image/png": "[encoded data removed]",
      "text/plain": [
       "<Figure size 640x480 with 1 Axes>"
      ]
     },
     "metadata": {},
     "output_type": "display_data"
    }
   ],
   "source": [
    "import random\n",
    "\n",
    "# Store the degree centralities of each subgraph\n",
    "all_degree_centralities = []\n",
    "\n",
    "# Create and analyze 10 random subgraphs with 300 nodes each\n",
    "for i in range(10):\n",
    "    nodes = random.sample(list(G.nodes()), 300)\n",
    "    subgraph = G.subgraph(nodes)\n",
    "    degree_centralities = nx.degree_centrality(subgraph)\n",
    "    degree_values = list(degree_centralities.values())\n",
    "    all_degree_centralities.append(degree_values)\n",
    "\n",
    "# Compare the values of degree centralities between the subgraphs\n",
    "differences = []\n",
    "for i in range(10):\n",
    "    for j in range(i+1, 10):\n",
    "        difference = np.abs(np.array(all_degree_centralities[i]) - np.array(all_degree_centralities[j]))\n",
    "        differences.append(difference)\n",
    "\n",
    "# Plot the differences\n",
    "plt.hist(differences, bins=50, label=['difference'])\n",
    "plt.legend()\n",
    "plt.show()\n"
   ]
  }
 ],
 "metadata": {
  "kernelspec": {
   "display_name": "DataScience",
   "language": "python",
   "name": "python3"
  },
  "language_info": {
   "codemirror_mode": {
    "name": "ipython",
    "version": 3
   },
   "file_extension": ".py",
   "mimetype": "text/x-python",
   "name": "python",
   "nbconvert_exporter": "python",
   "pygments_lexer": "ipython3",
   "version": "3.9.15"
  },
  "orig_nbformat": 4,
  "vscode": {
   "interpreter": {
    "hash": "e69159cacdb4fbd82388aeebaccb114ee46244fdb23461f4c1af85b236eb5dfd"
   }
  }
 },
 "nbformat": 4,
 "nbformat_minor": 2
}
